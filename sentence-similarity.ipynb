{
 "cells": [
  {
   "cell_type": "code",
   "execution_count": 1,
   "id": "40ff8179",
   "metadata": {},
   "outputs": [],
   "source": [
    "import torch\n",
    "import numpy as np\n",
    "import pandas as pd\n",
    "\n",
    "from tqdm import tqdm\n",
    "\n",
    "from transformers import AutoTokenizer, AutoModel\n",
    "from sklearn.metrics.pairwise import cosine_similarity"
   ]
  },
  {
   "cell_type": "code",
   "execution_count": 2,
   "id": "f17d5782",
   "metadata": {},
   "outputs": [],
   "source": [
    "# sentences = [\n",
    "#     \"Three years later, the coffin was still full of Jello.\",\n",
    "#     \"The fish dreamed of escaping the fishbowl and into the toilet where he saw his friend go.\",\n",
    "#     \"The person box was packed with jelly many dozens of months later.\",\n",
    "#     \"Standing on one's head at job interviews forms a lasting impression.\",\n",
    "#     \"It took him a month to finish the meal.\",\n",
    "#     \"He found a leprechaun in his walnut shell.\"\n",
    "# ]"
   ]
  },
  {
   "cell_type": "code",
   "execution_count": 3,
   "id": "d36aff6d",
   "metadata": {},
   "outputs": [
    {
     "data": {
      "text/html": [
       "<div>\n",
       "<style scoped>\n",
       "    .dataframe tbody tr th:only-of-type {\n",
       "        vertical-align: middle;\n",
       "    }\n",
       "\n",
       "    .dataframe tbody tr th {\n",
       "        vertical-align: top;\n",
       "    }\n",
       "\n",
       "    .dataframe thead th {\n",
       "        text-align: right;\n",
       "    }\n",
       "</style>\n",
       "<table border=\"1\" class=\"dataframe\">\n",
       "  <thead>\n",
       "    <tr style=\"text-align: right;\">\n",
       "      <th></th>\n",
       "      <th>Employed by this Industry</th>\n",
       "      <th>Code</th>\n",
       "      <th>Occupation</th>\n",
       "      <th>Projected Growth (2021-2031)</th>\n",
       "      <th>Projected Job Openings (2021-2031)</th>\n",
       "    </tr>\n",
       "  </thead>\n",
       "  <tbody>\n",
       "    <tr>\n",
       "      <th>0</th>\n",
       "      <td>89%</td>\n",
       "      <td>27-3011.00</td>\n",
       "      <td>Broadcast Announcers and Radio Disc Jockeys</td>\n",
       "      <td>Decline</td>\n",
       "      <td>2100</td>\n",
       "    </tr>\n",
       "    <tr>\n",
       "      <th>1</th>\n",
       "      <td>85%</td>\n",
       "      <td>39-3021.00</td>\n",
       "      <td>Motion Picture Projectionists</td>\n",
       "      <td>Much faster than average</td>\n",
       "      <td>700</td>\n",
       "    </tr>\n",
       "    <tr>\n",
       "      <th>2</th>\n",
       "      <td>80%</td>\n",
       "      <td>27-3023.00</td>\n",
       "      <td>News Analysts, Reporters, and Journalists</td>\n",
       "      <td>Decline</td>\n",
       "      <td>4900</td>\n",
       "    </tr>\n",
       "  </tbody>\n",
       "</table>\n",
       "</div>"
      ],
      "text/plain": [
       "  Employed by this Industry        Code  \\\n",
       "0                       89%  27-3011.00   \n",
       "1                       85%  39-3021.00   \n",
       "2                       80%  27-3023.00   \n",
       "\n",
       "                                    Occupation Projected Growth (2021-2031)  \\\n",
       "0  Broadcast Announcers and Radio Disc Jockeys                      Decline   \n",
       "1                Motion Picture Projectionists     Much faster than average   \n",
       "2    News Analysts, Reporters, and Journalists                      Decline   \n",
       "\n",
       "   Projected Job Openings (2021-2031)  \n",
       "0                                2100  \n",
       "1                                 700  \n",
       "2                                4900  "
      ]
     },
     "execution_count": 3,
     "metadata": {},
     "output_type": "execute_result"
    }
   ],
   "source": [
    "df = pd.read_csv('/home/heptagon/Desktop/sentence-similarity/information.csv')\n",
    "df.head(3)"
   ]
  },
  {
   "cell_type": "code",
   "execution_count": 28,
   "id": "64ea1103",
   "metadata": {},
   "outputs": [
    {
     "name": "stderr",
     "output_type": "stream",
     "text": [
      "100%|███████████████████████████████████████| 66/66 [00:00<00:00, 206123.65it/s]\n"
     ]
    }
   ],
   "source": [
    "sentences = []\n",
    "for key_str in tqdm(df.Occupation):\n",
    "    sentences.append(key_str)\n"
   ]
  },
  {
   "cell_type": "code",
   "execution_count": 5,
   "id": "ddd6edb6",
   "metadata": {},
   "outputs": [
    {
     "data": {
      "text/plain": [
       "66"
      ]
     },
     "execution_count": 5,
     "metadata": {},
     "output_type": "execute_result"
    }
   ],
   "source": [
    "len(sentences)"
   ]
  },
  {
   "cell_type": "code",
   "execution_count": 6,
   "id": "be2c3190",
   "metadata": {},
   "outputs": [],
   "source": [
    "tokenizer = AutoTokenizer.from_pretrained('sentence-transformers/bert-base-nli-mean-tokens')\n",
    "model = AutoModel.from_pretrained('sentence-transformers/bert-base-nli-mean-tokens')\n",
    "\n",
    "# initialize dictionary that will contain tokenized sentences\n",
    "tokens = {'input_ids': [], 'attention_mask': []}\n",
    "\n",
    "for sentence in sentences:\n",
    "    # tokenize sentence and append to dictionary lists\n",
    "    new_tokens = tokenizer.encode_plus(sentence,\n",
    "                                       max_length=128,\n",
    "                                       truncation=True,\n",
    "                                       padding='max_length',\n",
    "                                       return_tensors='pt'\n",
    "                                      )\n",
    "    \n",
    "    tokens['input_ids'].append(new_tokens['input_ids'][0])\n",
    "    tokens['attention_mask'].append(new_tokens['attention_mask'][0])\n",
    "\n",
    "# reformat list of tensors into single tensor\n",
    "tokens['input_ids'] = torch.stack(tokens['input_ids'])\n",
    "tokens['attention_mask'] = torch.stack(tokens['attention_mask'])"
   ]
  },
  {
   "cell_type": "code",
   "execution_count": 7,
   "id": "b2c0d27e",
   "metadata": {},
   "outputs": [
    {
     "data": {
      "text/plain": [
       "torch.Size([66, 128])"
      ]
     },
     "execution_count": 7,
     "metadata": {},
     "output_type": "execute_result"
    }
   ],
   "source": [
    "tokens['input_ids'].shape"
   ]
  },
  {
   "cell_type": "code",
   "execution_count": 8,
   "id": "6a10d3bf",
   "metadata": {},
   "outputs": [
    {
     "data": {
      "text/plain": [
       "odict_keys(['last_hidden_state', 'pooler_output'])"
      ]
     },
     "execution_count": 8,
     "metadata": {},
     "output_type": "execute_result"
    }
   ],
   "source": [
    "outputs = model(**tokens)\n",
    "outputs.keys()"
   ]
  },
  {
   "cell_type": "code",
   "execution_count": 9,
   "id": "bf3ffd07",
   "metadata": {},
   "outputs": [
    {
     "data": {
      "text/plain": [
       "tensor([[[ 0.0608,  0.2513,  0.7702,  ...,  0.9841, -0.1151, -0.6919],\n",
       "         [ 0.9133,  0.1304,  1.0075,  ...,  0.7064,  0.2474, -0.8052],\n",
       "         [ 0.3163,  0.4403,  0.6640,  ...,  0.6056, -0.0948, -0.6583],\n",
       "         ...,\n",
       "         [ 0.2646,  0.0861,  0.6944,  ...,  0.8370, -0.0601, -0.4292],\n",
       "         [ 0.2012,  0.1064,  0.6938,  ...,  0.9053, -0.0914, -0.4583],\n",
       "         [ 0.1990,  0.1777,  0.8084,  ...,  0.8776, -0.0473, -0.4129]],\n",
       "\n",
       "        [[-0.0499, -0.0384,  1.8612,  ..., -0.0534,  0.2067, -0.2082],\n",
       "         [ 0.6296,  0.1262,  1.4102,  ..., -0.1588,  0.1785,  0.3420],\n",
       "         [ 1.0020, -0.1525,  1.3424,  ..., -0.2481,  0.1890,  0.1235],\n",
       "         ...,\n",
       "         [ 0.1118, -0.2418,  1.4215,  ...,  0.0388,  0.2120,  0.1326],\n",
       "         [ 0.1635, -0.1824,  1.4771,  ...,  0.0860,  0.1856,  0.0857],\n",
       "         [ 0.0577, -0.2924,  1.4674,  ...,  0.0199,  0.0755,  0.2070]],\n",
       "\n",
       "        [[ 0.0287,  0.5112,  0.6561,  ..., -0.0769,  0.5289, -0.7474],\n",
       "         [ 0.6630, -0.0700,  0.7891,  ..., -0.3220,  0.7451, -1.0244],\n",
       "         [ 0.4989,  0.5091,  0.3391,  ..., -0.3135,  0.5161, -1.0884],\n",
       "         ...,\n",
       "         [ 0.3082,  0.2120,  0.5700,  ...,  0.1193,  0.4452, -0.7615],\n",
       "         [ 0.3053,  0.2554,  0.6324,  ...,  0.1797,  0.5008, -0.7487],\n",
       "         [ 0.2711,  0.3028,  0.7488,  ...,  0.1864,  0.5197, -0.7053]],\n",
       "\n",
       "        ...,\n",
       "\n",
       "        [[-0.1910,  0.0139,  1.3539,  ..., -0.7065, -0.6051, -0.0597],\n",
       "         [-0.0443,  0.1548,  1.4223,  ..., -0.9413, -1.1366,  0.2618],\n",
       "         [ 0.1751,  0.3374,  1.4330,  ..., -1.1278, -1.0931,  0.1068],\n",
       "         ...,\n",
       "         [ 0.0734,  0.0712,  1.0930,  ..., -0.5474, -0.5461,  0.1309],\n",
       "         [ 0.0482,  0.1030,  1.0629,  ..., -0.4982, -0.5440,  0.0630],\n",
       "         [-0.0823, -0.0926,  1.0783,  ..., -0.2959, -0.4542, -0.0279]],\n",
       "\n",
       "        [[ 0.3606, -0.1528,  1.7254,  ..., -0.7278, -0.6547, -0.5105],\n",
       "         [ 1.0818,  0.2880,  1.7435,  ..., -0.9721, -0.8012, -0.6606],\n",
       "         [ 0.3725, -0.1276,  1.7881,  ..., -0.4877, -0.7154, -0.6930],\n",
       "         ...,\n",
       "         [ 0.6964, -0.2694,  1.1464,  ..., -0.5233, -0.6234, -0.3531],\n",
       "         [ 0.5699, -0.2298,  1.0178,  ..., -0.4125, -0.6078, -0.3470],\n",
       "         [ 0.4999, -0.3224,  1.1162,  ..., -0.3586, -0.5649, -0.3730]],\n",
       "\n",
       "        [[ 0.1258,  0.5106,  1.5911,  ..., -0.4378, -0.2044,  0.1627],\n",
       "         [ 0.2149,  0.8072,  1.5659,  ..., -0.0812, -0.4272,  0.5283],\n",
       "         [ 0.3291,  1.0014,  1.4825,  ..., -0.3512, -0.5543, -0.2010],\n",
       "         ...,\n",
       "         [ 0.1870,  0.5852,  0.9054,  ..., -0.0939, -0.3735,  0.3878],\n",
       "         [ 0.2121,  0.5436,  0.9017,  ..., -0.1058, -0.2490,  0.2039],\n",
       "         [ 0.0930,  0.1783,  1.0203,  ...,  0.0822, -0.1545, -0.0153]]],\n",
       "       grad_fn=<NativeLayerNormBackward0>)"
      ]
     },
     "execution_count": 9,
     "metadata": {},
     "output_type": "execute_result"
    }
   ],
   "source": [
    "embeddings = outputs.last_hidden_state\n",
    "embeddings"
   ]
  },
  {
   "cell_type": "code",
   "execution_count": 10,
   "id": "41fa68ed",
   "metadata": {},
   "outputs": [
    {
     "data": {
      "text/plain": [
       "torch.Size([66, 128, 768])"
      ]
     },
     "execution_count": 10,
     "metadata": {},
     "output_type": "execute_result"
    }
   ],
   "source": [
    "embeddings.shape"
   ]
  },
  {
   "cell_type": "code",
   "execution_count": 11,
   "id": "05ae8df6",
   "metadata": {},
   "outputs": [
    {
     "data": {
      "text/plain": [
       "torch.Size([66, 128])"
      ]
     },
     "execution_count": 11,
     "metadata": {},
     "output_type": "execute_result"
    }
   ],
   "source": [
    "attention_mask = tokens['attention_mask']\n",
    "attention_mask.shape"
   ]
  },
  {
   "cell_type": "code",
   "execution_count": 12,
   "id": "44b14933",
   "metadata": {},
   "outputs": [
    {
     "data": {
      "text/plain": [
       "torch.Size([66, 128, 768])"
      ]
     },
     "execution_count": 12,
     "metadata": {},
     "output_type": "execute_result"
    }
   ],
   "source": [
    "mask = attention_mask.unsqueeze(-1).expand(embeddings.size()).float()\n",
    "mask.shape"
   ]
  },
  {
   "cell_type": "code",
   "execution_count": 13,
   "id": "68f583c0",
   "metadata": {},
   "outputs": [
    {
     "data": {
      "text/plain": [
       "torch.Size([66, 128, 768])"
      ]
     },
     "execution_count": 13,
     "metadata": {},
     "output_type": "execute_result"
    }
   ],
   "source": [
    "masked_embeddings = embeddings * mask\n",
    "masked_embeddings.shape"
   ]
  },
  {
   "cell_type": "code",
   "execution_count": 14,
   "id": "05fc23f5",
   "metadata": {},
   "outputs": [
    {
     "data": {
      "text/plain": [
       "torch.Size([66, 768])"
      ]
     },
     "execution_count": 14,
     "metadata": {},
     "output_type": "execute_result"
    }
   ],
   "source": [
    "summed = torch.sum(masked_embeddings, 1)\n",
    "summed.shape"
   ]
  },
  {
   "cell_type": "code",
   "execution_count": 15,
   "id": "ec0267b8",
   "metadata": {},
   "outputs": [
    {
     "data": {
      "text/plain": [
       "torch.Size([66, 768])"
      ]
     },
     "execution_count": 15,
     "metadata": {},
     "output_type": "execute_result"
    }
   ],
   "source": [
    "summed_mask = torch.clamp(mask.sum(1), min=1e-9)\n",
    "summed_mask.shape"
   ]
  },
  {
   "cell_type": "code",
   "execution_count": 16,
   "id": "08320114",
   "metadata": {},
   "outputs": [
    {
     "data": {
      "text/plain": [
       "tensor([[ 0.3616,  0.0936,  0.9224,  ...,  0.9126, -0.0742, -0.7194],\n",
       "        [ 0.5937, -0.0762,  1.6927,  ..., -0.0575,  0.0362, -0.0171],\n",
       "        [ 0.4736,  0.3709,  0.6660,  ..., -0.1013,  0.5430, -1.0005],\n",
       "        ...,\n",
       "        [ 0.0290,  0.0665,  1.3636,  ..., -0.7722, -0.9682,  0.0473],\n",
       "        [ 0.6357,  0.0324,  1.8577,  ..., -0.5765, -0.7784, -0.7426],\n",
       "        [ 0.2514,  0.7104,  1.6318,  ..., -0.3017, -0.4447,  0.1687]],\n",
       "       grad_fn=<DivBackward0>)"
      ]
     },
     "execution_count": 16,
     "metadata": {},
     "output_type": "execute_result"
    }
   ],
   "source": [
    "mean_pooled = summed / summed_mask\n",
    "mean_pooled"
   ]
  },
  {
   "cell_type": "code",
   "execution_count": 17,
   "id": "a96165f4",
   "metadata": {},
   "outputs": [],
   "source": [
    "# convert from PyTorch tensor to numpy array\n",
    "mean_pooled = mean_pooled.detach().numpy()"
   ]
  },
  {
   "cell_type": "code",
   "execution_count": 18,
   "id": "6bc9e60f",
   "metadata": {},
   "outputs": [
    {
     "data": {
      "text/plain": [
       "array([[ 0.36157602,  0.09358482,  0.92236423, ...,  0.91257954,\n",
       "        -0.07423987, -0.7193927 ],\n",
       "       [ 0.593666  , -0.07615194,  1.6927055 , ..., -0.05754603,\n",
       "         0.03617936, -0.01708179],\n",
       "       [ 0.47358528,  0.3708792 ,  0.66595584, ..., -0.1012688 ,\n",
       "         0.54300445, -1.0005151 ],\n",
       "       ...,\n",
       "       [ 0.02898995,  0.06645408,  1.3635979 , ..., -0.7722109 ,\n",
       "        -0.9681676 ,  0.04727154],\n",
       "       [ 0.63572997,  0.0324267 ,  1.8576798 , ..., -0.576498  ,\n",
       "        -0.7783937 , -0.7426126 ],\n",
       "       [ 0.25139147,  0.7104294 ,  1.6318375 , ..., -0.30172223,\n",
       "        -0.44473323,  0.16868499]], dtype=float32)"
      ]
     },
     "execution_count": 18,
     "metadata": {},
     "output_type": "execute_result"
    }
   ],
   "source": [
    "mean_pooled"
   ]
  },
  {
   "cell_type": "code",
   "execution_count": 19,
   "id": "5cae6aed",
   "metadata": {},
   "outputs": [
    {
     "data": {
      "text/plain": [
       "array([[0.40466473, 0.5272178 , 0.65094376, 0.3851594 , 0.55939466,\n",
       "        0.49035448, 0.53403604, 0.42080277, 0.5366019 , 0.49336663,\n",
       "        0.36081988, 0.37861705, 0.5634097 , 0.3747529 , 0.38110137,\n",
       "        0.43410107, 0.46313155, 0.23393461, 0.4036178 , 0.47280362,\n",
       "        0.66691077, 0.2917506 , 0.30006802, 0.34989494, 0.562245  ,\n",
       "        0.41985828, 0.34981897, 0.36244905, 0.28426456, 0.71575224,\n",
       "        0.42304856, 0.34833968, 0.5638764 , 0.26293248, 0.5034433 ,\n",
       "        0.3573458 , 0.41277114, 0.3255064 , 0.3519144 , 0.44056937,\n",
       "        0.51635444, 0.32743692, 0.37411636, 0.30585098, 0.21201305,\n",
       "        0.33714974, 0.37971425, 0.4626695 , 0.5104674 , 0.41894203,\n",
       "        0.3068022 , 0.32979888, 0.38195288, 0.41060668, 0.3828438 ,\n",
       "        0.4500179 , 0.41237885, 0.30866137, 0.3352124 , 0.30344748,\n",
       "        0.33761764, 0.4354756 , 0.360138  , 0.38598794, 0.36719847]],\n",
       "      dtype=float32)"
      ]
     },
     "execution_count": 19,
     "metadata": {},
     "output_type": "execute_result"
    }
   ],
   "source": [
    "# # calculate cosine_similarity\n",
    "# cosine_similarity(\n",
    "#     [mean_pooled[0]],\n",
    "#     mean_pooled[1:]\n",
    "# )"
   ]
  },
  {
   "cell_type": "code",
   "execution_count": 20,
   "id": "62c51db0",
   "metadata": {},
   "outputs": [
    {
     "name": "stdout",
     "output_type": "stream",
     "text": [
      "[[0.9999995  0.40466464 0.5272178  ... 0.36013797 0.38598788 0.36719847]\n",
      " [0.40466464 1.0000001  0.36913183 ... 0.37598765 0.49970976 0.51804054]\n",
      " [0.5272178  0.36913183 1.0000002  ... 0.400357   0.43337142 0.5019165 ]\n",
      " ...\n",
      " [0.36013797 0.37598765 0.400357   ... 1.0000002  0.49113446 0.6049912 ]\n",
      " [0.38598788 0.49970976 0.43337142 ... 0.49113446 0.9999999  0.57435197]\n",
      " [0.36719847 0.51804054 0.5019165  ... 0.6049912  0.57435197 1.0000002 ]]\n",
      "CPU times: user 12.7 ms, sys: 4.88 ms, total: 17.5 ms\n",
      "Wall time: 9.04 ms\n"
     ]
    }
   ],
   "source": [
    "%%time\n",
    "\n",
    "result = cosine_similarity(mean_pooled,mean_pooled)\n",
    "print(result)"
   ]
  },
  {
   "cell_type": "code",
   "execution_count": 21,
   "id": "e67cb849",
   "metadata": {},
   "outputs": [
    {
     "data": {
      "text/plain": [
       "array([[ 0,  0],\n",
       "       [ 0, 30],\n",
       "       [ 1,  1],\n",
       "       [ 1, 12],\n",
       "       [ 1, 16],\n",
       "       [ 2,  2],\n",
       "       [ 3,  3],\n",
       "       [ 3,  5],\n",
       "       [ 3,  6],\n",
       "       [ 3,  7],\n",
       "       [ 3,  9],\n",
       "       [ 3, 13],\n",
       "       [ 3, 21],\n",
       "       [ 3, 25],\n",
       "       [ 3, 30],\n",
       "       [ 3, 33],\n",
       "       [ 3, 62],\n",
       "       [ 4,  4],\n",
       "       [ 4,  5],\n",
       "       [ 4, 29],\n",
       "       [ 4, 45],\n",
       "       [ 5,  3],\n",
       "       [ 5,  4],\n",
       "       [ 5,  5],\n",
       "       [ 5, 21],\n",
       "       [ 5, 24],\n",
       "       [ 5, 30],\n",
       "       [ 5, 33],\n",
       "       [ 5, 41],\n",
       "       [ 6,  3],\n",
       "       [ 6,  6],\n",
       "       [ 6,  7],\n",
       "       [ 6,  8],\n",
       "       [ 6,  9],\n",
       "       [ 6, 12],\n",
       "       [ 6, 16],\n",
       "       [ 6, 19],\n",
       "       [ 7,  3],\n",
       "       [ 7,  6],\n",
       "       [ 7,  7],\n",
       "       [ 7,  8],\n",
       "       [ 7,  9],\n",
       "       [ 7, 35],\n",
       "       [ 7, 37],\n",
       "       [ 7, 39],\n",
       "       [ 7, 42],\n",
       "       [ 7, 47],\n",
       "       [ 7, 59],\n",
       "       [ 8,  6],\n",
       "       [ 8,  7],\n",
       "       [ 8,  8],\n",
       "       [ 8,  9],\n",
       "       [ 8, 15],\n",
       "       [ 8, 35],\n",
       "       [ 8, 47],\n",
       "       [ 9,  3],\n",
       "       [ 9,  6],\n",
       "       [ 9,  7],\n",
       "       [ 9,  8],\n",
       "       [ 9,  9],\n",
       "       [ 9, 35],\n",
       "       [ 9, 42],\n",
       "       [ 9, 47],\n",
       "       [ 9, 62],\n",
       "       [10, 10],\n",
       "       [10, 35],\n",
       "       [10, 43],\n",
       "       [10, 47],\n",
       "       [10, 54],\n",
       "       [10, 55],\n",
       "       [11, 11],\n",
       "       [11, 48],\n",
       "       [11, 62],\n",
       "       [12,  1],\n",
       "       [12,  6],\n",
       "       [12, 12],\n",
       "       [12, 16],\n",
       "       [12, 25],\n",
       "       [13,  3],\n",
       "       [13, 13],\n",
       "       [13, 25],\n",
       "       [13, 62],\n",
       "       [14, 14],\n",
       "       [15,  8],\n",
       "       [15, 15],\n",
       "       [15, 19],\n",
       "       [15, 64],\n",
       "       [16,  1],\n",
       "       [16,  6],\n",
       "       [16, 12],\n",
       "       [16, 16],\n",
       "       [16, 25],\n",
       "       [17, 17],\n",
       "       [17, 20],\n",
       "       [18, 18],\n",
       "       [18, 32],\n",
       "       [18, 46],\n",
       "       [19,  6],\n",
       "       [19, 15],\n",
       "       [19, 19],\n",
       "       [20, 17],\n",
       "       [20, 20],\n",
       "       [21,  3],\n",
       "       [21,  5],\n",
       "       [21, 21],\n",
       "       [21, 30],\n",
       "       [21, 33],\n",
       "       [21, 41],\n",
       "       [22, 22],\n",
       "       [22, 24],\n",
       "       [22, 27],\n",
       "       [22, 32],\n",
       "       [22, 34],\n",
       "       [22, 36],\n",
       "       [22, 42],\n",
       "       [22, 58],\n",
       "       [22, 59],\n",
       "       [23, 23],\n",
       "       [24,  5],\n",
       "       [24, 22],\n",
       "       [24, 24],\n",
       "       [24, 27],\n",
       "       [24, 28],\n",
       "       [24, 32],\n",
       "       [24, 33],\n",
       "       [24, 37],\n",
       "       [24, 39],\n",
       "       [24, 42],\n",
       "       [24, 44],\n",
       "       [24, 46],\n",
       "       [24, 50],\n",
       "       [24, 53],\n",
       "       [24, 59],\n",
       "       [24, 61],\n",
       "       [24, 63],\n",
       "       [25,  3],\n",
       "       [25, 12],\n",
       "       [25, 13],\n",
       "       [25, 16],\n",
       "       [25, 25],\n",
       "       [26, 26],\n",
       "       [27, 22],\n",
       "       [27, 24],\n",
       "       [27, 27],\n",
       "       [27, 28],\n",
       "       [27, 32],\n",
       "       [27, 34],\n",
       "       [27, 36],\n",
       "       [27, 37],\n",
       "       [27, 39],\n",
       "       [27, 42],\n",
       "       [27, 44],\n",
       "       [27, 46],\n",
       "       [27, 50],\n",
       "       [27, 53],\n",
       "       [27, 59],\n",
       "       [27, 61],\n",
       "       [27, 62],\n",
       "       [27, 63],\n",
       "       [28, 24],\n",
       "       [28, 27],\n",
       "       [28, 28],\n",
       "       [28, 37],\n",
       "       [28, 39],\n",
       "       [28, 42],\n",
       "       [28, 44],\n",
       "       [28, 46],\n",
       "       [28, 50],\n",
       "       [28, 53],\n",
       "       [28, 59],\n",
       "       [28, 61],\n",
       "       [28, 63],\n",
       "       [29,  4],\n",
       "       [29, 29],\n",
       "       [29, 45],\n",
       "       [30,  0],\n",
       "       [30,  3],\n",
       "       [30,  5],\n",
       "       [30, 21],\n",
       "       [30, 30],\n",
       "       [30, 33],\n",
       "       [31, 31],\n",
       "       [32, 18],\n",
       "       [32, 22],\n",
       "       [32, 24],\n",
       "       [32, 27],\n",
       "       [32, 32],\n",
       "       [32, 34],\n",
       "       [32, 36],\n",
       "       [32, 37],\n",
       "       [32, 39],\n",
       "       [32, 42],\n",
       "       [32, 44],\n",
       "       [32, 46],\n",
       "       [32, 53],\n",
       "       [32, 59],\n",
       "       [32, 61],\n",
       "       [32, 63],\n",
       "       [33,  3],\n",
       "       [33,  5],\n",
       "       [33, 21],\n",
       "       [33, 24],\n",
       "       [33, 30],\n",
       "       [33, 33],\n",
       "       [33, 41],\n",
       "       [33, 62],\n",
       "       [34, 22],\n",
       "       [34, 27],\n",
       "       [34, 32],\n",
       "       [34, 34],\n",
       "       [34, 36],\n",
       "       [34, 44],\n",
       "       [34, 59],\n",
       "       [35,  7],\n",
       "       [35,  8],\n",
       "       [35,  9],\n",
       "       [35, 10],\n",
       "       [35, 35],\n",
       "       [35, 43],\n",
       "       [35, 47],\n",
       "       [35, 54],\n",
       "       [35, 55],\n",
       "       [36, 22],\n",
       "       [36, 27],\n",
       "       [36, 32],\n",
       "       [36, 34],\n",
       "       [36, 36],\n",
       "       [36, 37],\n",
       "       [36, 39],\n",
       "       [36, 42],\n",
       "       [36, 44],\n",
       "       [36, 50],\n",
       "       [36, 59],\n",
       "       [36, 65],\n",
       "       [37,  7],\n",
       "       [37, 24],\n",
       "       [37, 27],\n",
       "       [37, 28],\n",
       "       [37, 32],\n",
       "       [37, 36],\n",
       "       [37, 37],\n",
       "       [37, 39],\n",
       "       [37, 42],\n",
       "       [37, 44],\n",
       "       [37, 46],\n",
       "       [37, 50],\n",
       "       [37, 53],\n",
       "       [37, 59],\n",
       "       [37, 63],\n",
       "       [37, 65],\n",
       "       [38, 38],\n",
       "       [39,  7],\n",
       "       [39, 24],\n",
       "       [39, 27],\n",
       "       [39, 28],\n",
       "       [39, 32],\n",
       "       [39, 36],\n",
       "       [39, 37],\n",
       "       [39, 39],\n",
       "       [39, 42],\n",
       "       [39, 44],\n",
       "       [39, 46],\n",
       "       [39, 50],\n",
       "       [39, 51],\n",
       "       [39, 53],\n",
       "       [39, 59],\n",
       "       [39, 63],\n",
       "       [39, 65],\n",
       "       [40, 40],\n",
       "       [41,  5],\n",
       "       [41, 21],\n",
       "       [41, 33],\n",
       "       [41, 41],\n",
       "       [42,  7],\n",
       "       [42,  9],\n",
       "       [42, 22],\n",
       "       [42, 24],\n",
       "       [42, 27],\n",
       "       [42, 28],\n",
       "       [42, 32],\n",
       "       [42, 36],\n",
       "       [42, 37],\n",
       "       [42, 39],\n",
       "       [42, 42],\n",
       "       [42, 44],\n",
       "       [42, 46],\n",
       "       [42, 50],\n",
       "       [42, 53],\n",
       "       [42, 59],\n",
       "       [42, 61],\n",
       "       [42, 63],\n",
       "       [42, 65],\n",
       "       [43, 10],\n",
       "       [43, 35],\n",
       "       [43, 43],\n",
       "       [43, 47],\n",
       "       [43, 51],\n",
       "       [43, 54],\n",
       "       [43, 55],\n",
       "       [43, 56],\n",
       "       [44, 24],\n",
       "       [44, 27],\n",
       "       [44, 28],\n",
       "       [44, 32],\n",
       "       [44, 34],\n",
       "       [44, 36],\n",
       "       [44, 37],\n",
       "       [44, 39],\n",
       "       [44, 42],\n",
       "       [44, 44],\n",
       "       [44, 46],\n",
       "       [44, 50],\n",
       "       [44, 51],\n",
       "       [44, 53],\n",
       "       [44, 59],\n",
       "       [44, 60],\n",
       "       [44, 61],\n",
       "       [44, 63],\n",
       "       [44, 65],\n",
       "       [45,  4],\n",
       "       [45, 29],\n",
       "       [45, 45],\n",
       "       [46, 18],\n",
       "       [46, 24],\n",
       "       [46, 27],\n",
       "       [46, 28],\n",
       "       [46, 32],\n",
       "       [46, 37],\n",
       "       [46, 39],\n",
       "       [46, 42],\n",
       "       [46, 44],\n",
       "       [46, 46],\n",
       "       [46, 50],\n",
       "       [46, 53],\n",
       "       [46, 59],\n",
       "       [46, 61],\n",
       "       [46, 63],\n",
       "       [47,  7],\n",
       "       [47,  8],\n",
       "       [47,  9],\n",
       "       [47, 10],\n",
       "       [47, 35],\n",
       "       [47, 43],\n",
       "       [47, 47],\n",
       "       [47, 54],\n",
       "       [47, 55],\n",
       "       [48, 11],\n",
       "       [48, 48],\n",
       "       [48, 49],\n",
       "       [49, 48],\n",
       "       [49, 49],\n",
       "       [50, 24],\n",
       "       [50, 27],\n",
       "       [50, 28],\n",
       "       [50, 36],\n",
       "       [50, 37],\n",
       "       [50, 39],\n",
       "       [50, 42],\n",
       "       [50, 44],\n",
       "       [50, 46],\n",
       "       [50, 50],\n",
       "       [50, 53],\n",
       "       [50, 59],\n",
       "       [50, 63],\n",
       "       [51, 39],\n",
       "       [51, 43],\n",
       "       [51, 44],\n",
       "       [51, 51],\n",
       "       [51, 54],\n",
       "       [52, 52],\n",
       "       [53, 24],\n",
       "       [53, 27],\n",
       "       [53, 28],\n",
       "       [53, 32],\n",
       "       [53, 37],\n",
       "       [53, 39],\n",
       "       [53, 42],\n",
       "       [53, 44],\n",
       "       [53, 46],\n",
       "       [53, 50],\n",
       "       [53, 53],\n",
       "       [53, 59],\n",
       "       [53, 61],\n",
       "       [53, 63],\n",
       "       [54, 10],\n",
       "       [54, 35],\n",
       "       [54, 43],\n",
       "       [54, 47],\n",
       "       [54, 51],\n",
       "       [54, 54],\n",
       "       [54, 55],\n",
       "       [55, 10],\n",
       "       [55, 35],\n",
       "       [55, 43],\n",
       "       [55, 47],\n",
       "       [55, 54],\n",
       "       [55, 55],\n",
       "       [56, 43],\n",
       "       [56, 56],\n",
       "       [57, 57],\n",
       "       [58, 22],\n",
       "       [58, 58],\n",
       "       [58, 64],\n",
       "       [59,  7],\n",
       "       [59, 22],\n",
       "       [59, 24],\n",
       "       [59, 27],\n",
       "       [59, 28],\n",
       "       [59, 32],\n",
       "       [59, 34],\n",
       "       [59, 36],\n",
       "       [59, 37],\n",
       "       [59, 39],\n",
       "       [59, 42],\n",
       "       [59, 44],\n",
       "       [59, 46],\n",
       "       [59, 50],\n",
       "       [59, 53],\n",
       "       [59, 59],\n",
       "       [59, 61],\n",
       "       [59, 63],\n",
       "       [60, 44],\n",
       "       [60, 60],\n",
       "       [61, 24],\n",
       "       [61, 27],\n",
       "       [61, 28],\n",
       "       [61, 32],\n",
       "       [61, 42],\n",
       "       [61, 44],\n",
       "       [61, 46],\n",
       "       [61, 53],\n",
       "       [61, 59],\n",
       "       [61, 61],\n",
       "       [61, 63],\n",
       "       [62,  3],\n",
       "       [62,  9],\n",
       "       [62, 11],\n",
       "       [62, 13],\n",
       "       [62, 27],\n",
       "       [62, 33],\n",
       "       [62, 62],\n",
       "       [63, 24],\n",
       "       [63, 27],\n",
       "       [63, 28],\n",
       "       [63, 32],\n",
       "       [63, 37],\n",
       "       [63, 39],\n",
       "       [63, 42],\n",
       "       [63, 44],\n",
       "       [63, 46],\n",
       "       [63, 50],\n",
       "       [63, 53],\n",
       "       [63, 59],\n",
       "       [63, 61],\n",
       "       [63, 63],\n",
       "       [64, 15],\n",
       "       [64, 58],\n",
       "       [64, 64],\n",
       "       [65, 36],\n",
       "       [65, 37],\n",
       "       [65, 39],\n",
       "       [65, 42],\n",
       "       [65, 44],\n",
       "       [65, 65]])"
      ]
     },
     "execution_count": 21,
     "metadata": {},
     "output_type": "execute_result"
    }
   ],
   "source": [
    "# while True:\n",
    "rows=np.argwhere(result>.7)\n",
    "rows"
   ]
  },
  {
   "cell_type": "code",
   "execution_count": 22,
   "id": "32ffc7cb",
   "metadata": {},
   "outputs": [
    {
     "name": "stdout",
     "output_type": "stream",
     "text": [
      "{0: [0, 30], 1: [1, 12, 16], 2: [2], 3: [3, 5, 6, 7, 9, 13, 21, 25, 30, 33, 62], 4: [4, 5, 29, 45], 5: [3, 4, 5, 21, 24, 30, 33, 41], 6: [3, 6, 7, 8, 9, 12, 16, 19], 7: [3, 6, 7, 8, 9, 35, 37, 39, 42, 47, 59], 8: [6, 7, 8, 9, 15, 35, 47], 9: [3, 6, 7, 8, 9, 35, 42, 47, 62], 10: [10, 35, 43, 47, 54, 55], 11: [11, 48, 62], 12: [1, 6, 12, 16, 25], 13: [3, 13, 25, 62], 14: [14], 15: [8, 15, 19, 64], 16: [1, 6, 12, 16, 25], 17: [17, 20], 18: [18, 32, 46], 19: [6, 15, 19], 20: [17, 20], 21: [3, 5, 21, 30, 33, 41], 22: [22, 24, 27, 32, 34, 36, 42, 58, 59], 23: [23], 24: [5, 22, 24, 27, 28, 32, 33, 37, 39, 42, 44, 46, 50, 53, 59, 61, 63], 25: [3, 12, 13, 16, 25], 26: [26], 27: [22, 24, 27, 28, 32, 34, 36, 37, 39, 42, 44, 46, 50, 53, 59, 61, 62, 63], 28: [24, 27, 28, 37, 39, 42, 44, 46, 50, 53, 59, 61, 63], 29: [4, 29, 45], 30: [0, 3, 5, 21, 30, 33], 31: [31], 32: [18, 22, 24, 27, 32, 34, 36, 37, 39, 42, 44, 46, 53, 59, 61, 63], 33: [3, 5, 21, 24, 30, 33, 41, 62], 34: [22, 27, 32, 34, 36, 44, 59], 35: [7, 8, 9, 10, 35, 43, 47, 54, 55], 36: [22, 27, 32, 34, 36, 37, 39, 42, 44, 50, 59, 65], 37: [7, 24, 27, 28, 32, 36, 37, 39, 42, 44, 46, 50, 53, 59, 63, 65], 38: [38], 39: [7, 24, 27, 28, 32, 36, 37, 39, 42, 44, 46, 50, 51, 53, 59, 63, 65], 40: [40], 41: [5, 21, 33, 41], 42: [7, 9, 22, 24, 27, 28, 32, 36, 37, 39, 42, 44, 46, 50, 53, 59, 61, 63, 65], 43: [10, 35, 43, 47, 51, 54, 55, 56], 44: [24, 27, 28, 32, 34, 36, 37, 39, 42, 44, 46, 50, 51, 53, 59, 60, 61, 63, 65], 45: [4, 29, 45], 46: [18, 24, 27, 28, 32, 37, 39, 42, 44, 46, 50, 53, 59, 61, 63], 47: [7, 8, 9, 10, 35, 43, 47, 54, 55], 48: [11, 48, 49], 49: [48, 49], 50: [24, 27, 28, 36, 37, 39, 42, 44, 46, 50, 53, 59, 63], 51: [39, 43, 44, 51, 54], 52: [52], 53: [24, 27, 28, 32, 37, 39, 42, 44, 46, 50, 53, 59, 61, 63], 54: [10, 35, 43, 47, 51, 54, 55], 55: [10, 35, 43, 47, 54, 55], 56: [43, 56], 57: [57], 58: [22, 58, 64], 59: [7, 22, 24, 27, 28, 32, 34, 36, 37, 39, 42, 44, 46, 50, 53, 59, 61, 63], 60: [44, 60], 61: [24, 27, 28, 32, 42, 44, 46, 53, 59, 61, 63], 62: [3, 9, 11, 13, 27, 33, 62], 63: [24, 27, 28, 32, 37, 39, 42, 44, 46, 50, 53, 59, 61, 63], 64: [15, 58, 64], 65: [36, 37, 39, 42, 44, 65]}\n"
     ]
    }
   ],
   "source": [
    "temp_dict = {}\n",
    "for i in rows:\n",
    "    if i[0] not in temp_dict.keys():\n",
    "        temp_dict[i[0]] = []    \n",
    "        \n",
    "    if i[0] == i[1]:\n",
    "        temp_dict[i[0]].append(i[0])\n",
    "        continue\n",
    "    temp_dict[i[0]].append(i[1])\n",
    "    \n",
    "print(temp_dict)  \n",
    "\n",
    "# if temp_dict[i[0]] in temp_dict.values():\n"
   ]
  },
  {
   "cell_type": "code",
   "execution_count": null,
   "id": "cdc6634b",
   "metadata": {},
   "outputs": [],
   "source": []
  },
  {
   "cell_type": "code",
   "execution_count": null,
   "id": "32240791",
   "metadata": {},
   "outputs": [],
   "source": []
  },
  {
   "cell_type": "code",
   "execution_count": null,
   "id": "76e72d19",
   "metadata": {},
   "outputs": [],
   "source": []
  },
  {
   "cell_type": "code",
   "execution_count": null,
   "id": "6b8a0c23",
   "metadata": {},
   "outputs": [],
   "source": []
  },
  {
   "cell_type": "code",
   "execution_count": 23,
   "id": "fefc51b2",
   "metadata": {},
   "outputs": [
    {
     "name": "stdout",
     "output_type": "stream",
     "text": [
      "{0: ['Broadcast Announcers and Radio Disc Jockeys', 'Radio Frequency Identification Device Specialists'], 1: ['Motion Picture Projectionists', 'Film and Video Editors', 'Camera Operators, Television, Video, and Film'], 2: ['News Analysts, Reporters, and Journalists'], 3: ['Broadcast Technicians', 'Telecommunications Line Installers and Repairers', 'Producers and Directors', 'Media Programming Directors', 'Media Technical Directors/Managers', 'Sound Engineering Technicians', 'Radio, Cellular, and Tower Equipment Installers and Repairers', 'Audio and Video Technicians', 'Radio Frequency Identification Device Specialists', 'Telecommunications Engineering Specialists', 'Technical Writers'], 4: ['Telecommunications Equipment Installers and Repairers, Except Line Installers', 'Telecommunications Line Installers and Repairers', 'Electronics Engineers, Except Computer', 'Office Machine Operators, Except Computer'], 5: ['Broadcast Technicians', 'Telecommunications Equipment Installers and Repairers, Except Line Installers', 'Telecommunications Line Installers and Repairers', 'Radio, Cellular, and Tower Equipment Installers and Repairers', 'Computer Network Support Specialists', 'Radio Frequency Identification Device Specialists', 'Telecommunications Engineering Specialists', 'Telephone Operators'], 6: ['Broadcast Technicians', 'Producers and Directors', 'Media Programming Directors', 'Talent Directors', 'Media Technical Directors/Managers', 'Film and Video Editors', 'Camera Operators, Television, Video, and Film', 'Actors'], 7: ['Broadcast Technicians', 'Producers and Directors', 'Media Programming Directors', 'Talent Directors', 'Media Technical Directors/Managers', 'Advertising and Promotions Managers', 'Data Warehousing Specialists', 'Information Security Analysts', 'Computer and Information Systems Managers', 'Marketing Managers', 'Network and Computer Systems Administrators'], 8: ['Producers and Directors', 'Media Programming Directors', 'Talent Directors', 'Media Technical Directors/Managers', 'Costume Attendants', 'Advertising and Promotions Managers', 'Marketing Managers'], 9: ['Broadcast Technicians', 'Producers and Directors', 'Media Programming Directors', 'Talent Directors', 'Media Technical Directors/Managers', 'Advertising and Promotions Managers', 'Computer and Information Systems Managers', 'Marketing Managers', 'Technical Writers'], 10: ['Advertising Sales Agents', 'Advertising and Promotions Managers', 'Sales Engineers', 'Marketing Managers', 'Market Research Analysts and Marketing Specialists', 'Search Marketing Strategists'], 11: ['Editors', 'Writers and Authors', 'Technical Writers'], 12: ['Motion Picture Projectionists', 'Producers and Directors', 'Film and Video Editors', 'Camera Operators, Television, Video, and Film', 'Audio and Video Technicians'], 13: ['Broadcast Technicians', 'Sound Engineering Technicians', 'Audio and Video Technicians', 'Technical Writers'], 14: ['Ushers, Lobby Attendants, and Ticket Takers'], 15: ['Talent Directors', 'Costume Attendants', 'Actors', 'Set and Exhibit Designers'], 16: ['Motion Picture Projectionists', 'Producers and Directors', 'Film and Video Editors', 'Camera Operators, Television, Video, and Film', 'Audio and Video Technicians'], 17: ['Media and Communication Equipment Workers, All Other', 'Media and Communication Workers, All Other'], 18: ['Desktop Publishers', 'Computer Network Architects', 'Computer User Support Specialists'], 19: ['Producers and Directors', 'Costume Attendants', 'Actors'], 20: ['Media and Communication Equipment Workers, All Other', 'Media and Communication Workers, All Other'], 21: ['Broadcast Technicians', 'Telecommunications Line Installers and Repairers', 'Radio, Cellular, and Tower Equipment Installers and Repairers', 'Radio Frequency Identification Device Specialists', 'Telecommunications Engineering Specialists', 'Telephone Operators'], 22: ['Web and Digital Interface Designers', 'Computer Network Support Specialists', 'Software Developers', 'Computer Network Architects', 'Web Developers', 'Database Architects', 'Computer and Information Systems Managers', 'Graphic Designers', 'Network and Computer Systems Administrators'], 23: ['Video Game Designers'], 24: ['Telecommunications Line Installers and Repairers', 'Web and Digital Interface Designers', 'Computer Network Support Specialists', 'Software Developers', 'Software Quality Assurance Analysts and Testers', 'Computer Network Architects', 'Telecommunications Engineering Specialists', 'Data Warehousing Specialists', 'Information Security Analysts', 'Computer and Information Systems Managers', 'Database Administrators', 'Computer User Support Specialists', 'Data Scientists', 'Computer and Information Research Scientists', 'Network and Computer Systems Administrators', 'Computer Programmers', 'Computer Hardware Engineers'], 25: ['Broadcast Technicians', 'Film and Video Editors', 'Sound Engineering Technicians', 'Camera Operators, Television, Video, and Film', 'Audio and Video Technicians'], 26: ['Special Effects Artists and Animators'], 27: ['Web and Digital Interface Designers', 'Computer Network Support Specialists', 'Software Developers', 'Software Quality Assurance Analysts and Testers', 'Computer Network Architects', 'Web Developers', 'Database Architects', 'Data Warehousing Specialists', 'Information Security Analysts', 'Computer and Information Systems Managers', 'Database Administrators', 'Computer User Support Specialists', 'Data Scientists', 'Computer and Information Research Scientists', 'Network and Computer Systems Administrators', 'Computer Programmers', 'Technical Writers', 'Computer Hardware Engineers'], 28: ['Computer Network Support Specialists', 'Software Developers', 'Software Quality Assurance Analysts and Testers', 'Data Warehousing Specialists', 'Information Security Analysts', 'Computer and Information Systems Managers', 'Database Administrators', 'Computer User Support Specialists', 'Data Scientists', 'Computer and Information Research Scientists', 'Network and Computer Systems Administrators', 'Computer Programmers', 'Computer Hardware Engineers'], 29: ['Telecommunications Equipment Installers and Repairers, Except Line Installers', 'Electronics Engineers, Except Computer', 'Office Machine Operators, Except Computer'], 30: ['Broadcast Announcers and Radio Disc Jockeys', 'Broadcast Technicians', 'Telecommunications Line Installers and Repairers', 'Radio, Cellular, and Tower Equipment Installers and Repairers', 'Radio Frequency Identification Device Specialists', 'Telecommunications Engineering Specialists'], 31: ['Atmospheric and Space Scientists'], 32: ['Desktop Publishers', 'Web and Digital Interface Designers', 'Computer Network Support Specialists', 'Software Developers', 'Computer Network Architects', 'Web Developers', 'Database Architects', 'Data Warehousing Specialists', 'Information Security Analysts', 'Computer and Information Systems Managers', 'Database Administrators', 'Computer User Support Specialists', 'Computer and Information Research Scientists', 'Network and Computer Systems Administrators', 'Computer Programmers', 'Computer Hardware Engineers'], 33: ['Broadcast Technicians', 'Telecommunications Line Installers and Repairers', 'Radio, Cellular, and Tower Equipment Installers and Repairers', 'Computer Network Support Specialists', 'Radio Frequency Identification Device Specialists', 'Telecommunications Engineering Specialists', 'Telephone Operators', 'Technical Writers'], 34: ['Web and Digital Interface Designers', 'Software Developers', 'Computer Network Architects', 'Web Developers', 'Database Architects', 'Database Administrators', 'Network and Computer Systems Administrators'], 35: ['Media Programming Directors', 'Talent Directors', 'Media Technical Directors/Managers', 'Advertising Sales Agents', 'Advertising and Promotions Managers', 'Sales Engineers', 'Marketing Managers', 'Market Research Analysts and Marketing Specialists', 'Search Marketing Strategists'], 36: ['Web and Digital Interface Designers', 'Software Developers', 'Computer Network Architects', 'Web Developers', 'Database Architects', 'Data Warehousing Specialists', 'Information Security Analysts', 'Computer and Information Systems Managers', 'Database Administrators', 'Data Scientists', 'Network and Computer Systems Administrators', 'Archivists'], 37: ['Media Programming Directors', 'Computer Network Support Specialists', 'Software Developers', 'Software Quality Assurance Analysts and Testers', 'Computer Network Architects', 'Database Architects', 'Data Warehousing Specialists', 'Information Security Analysts', 'Computer and Information Systems Managers', 'Database Administrators', 'Computer User Support Specialists', 'Data Scientists', 'Computer and Information Research Scientists', 'Network and Computer Systems Administrators', 'Computer Hardware Engineers', 'Archivists'], 38: ['Sales Representatives of Services, Except Advertising, Insurance, Financial Services, and Travel'], 39: ['Media Programming Directors', 'Computer Network Support Specialists', 'Software Developers', 'Software Quality Assurance Analysts and Testers', 'Computer Network Architects', 'Database Architects', 'Data Warehousing Specialists', 'Information Security Analysts', 'Computer and Information Systems Managers', 'Database Administrators', 'Computer User Support Specialists', 'Data Scientists', 'Business Intelligence Analysts', 'Computer and Information Research Scientists', 'Network and Computer Systems Administrators', 'Computer Hardware Engineers', 'Archivists'], 40: ['Proofreaders and Copy Markers'], 41: ['Telecommunications Line Installers and Repairers', 'Radio, Cellular, and Tower Equipment Installers and Repairers', 'Telecommunications Engineering Specialists', 'Telephone Operators'], 42: ['Media Programming Directors', 'Media Technical Directors/Managers', 'Web and Digital Interface Designers', 'Computer Network Support Specialists', 'Software Developers', 'Software Quality Assurance Analysts and Testers', 'Computer Network Architects', 'Database Architects', 'Data Warehousing Specialists', 'Information Security Analysts', 'Computer and Information Systems Managers', 'Database Administrators', 'Computer User Support Specialists', 'Data Scientists', 'Computer and Information Research Scientists', 'Network and Computer Systems Administrators', 'Computer Programmers', 'Computer Hardware Engineers', 'Archivists'], 43: ['Advertising Sales Agents', 'Advertising and Promotions Managers', 'Sales Engineers', 'Marketing Managers', 'Business Intelligence Analysts', 'Market Research Analysts and Marketing Specialists', 'Search Marketing Strategists', 'Sales Representatives, Wholesale and Manufacturing, Technical and Scientific Products'], 44: ['Computer Network Support Specialists', 'Software Developers', 'Software Quality Assurance Analysts and Testers', 'Computer Network Architects', 'Web Developers', 'Database Architects', 'Data Warehousing Specialists', 'Information Security Analysts', 'Computer and Information Systems Managers', 'Database Administrators', 'Computer User Support Specialists', 'Data Scientists', 'Business Intelligence Analysts', 'Computer and Information Research Scientists', 'Network and Computer Systems Administrators', 'Library Assistants, Clerical', 'Computer Programmers', 'Computer Hardware Engineers', 'Archivists'], 45: ['Telecommunications Equipment Installers and Repairers, Except Line Installers', 'Electronics Engineers, Except Computer', 'Office Machine Operators, Except Computer'], 46: ['Desktop Publishers', 'Computer Network Support Specialists', 'Software Developers', 'Software Quality Assurance Analysts and Testers', 'Computer Network Architects', 'Data Warehousing Specialists', 'Information Security Analysts', 'Computer and Information Systems Managers', 'Database Administrators', 'Computer User Support Specialists', 'Data Scientists', 'Computer and Information Research Scientists', 'Network and Computer Systems Administrators', 'Computer Programmers', 'Computer Hardware Engineers'], 47: ['Media Programming Directors', 'Talent Directors', 'Media Technical Directors/Managers', 'Advertising Sales Agents', 'Advertising and Promotions Managers', 'Sales Engineers', 'Marketing Managers', 'Market Research Analysts and Marketing Specialists', 'Search Marketing Strategists'], 48: ['Editors', 'Writers and Authors', 'Poets, Lyricists and Creative Writers'], 49: ['Writers and Authors', 'Poets, Lyricists and Creative Writers'], 50: ['Computer Network Support Specialists', 'Software Developers', 'Software Quality Assurance Analysts and Testers', 'Database Architects', 'Data Warehousing Specialists', 'Information Security Analysts', 'Computer and Information Systems Managers', 'Database Administrators', 'Computer User Support Specialists', 'Data Scientists', 'Computer and Information Research Scientists', 'Network and Computer Systems Administrators', 'Computer Hardware Engineers'], 51: ['Information Security Analysts', 'Sales Engineers', 'Database Administrators', 'Business Intelligence Analysts', 'Market Research Analysts and Marketing Specialists'], 52: ['Clinical Data Managers'], 53: ['Computer Network Support Specialists', 'Software Developers', 'Software Quality Assurance Analysts and Testers', 'Computer Network Architects', 'Data Warehousing Specialists', 'Information Security Analysts', 'Computer and Information Systems Managers', 'Database Administrators', 'Computer User Support Specialists', 'Data Scientists', 'Computer and Information Research Scientists', 'Network and Computer Systems Administrators', 'Computer Programmers', 'Computer Hardware Engineers'], 54: ['Advertising Sales Agents', 'Advertising and Promotions Managers', 'Sales Engineers', 'Marketing Managers', 'Business Intelligence Analysts', 'Market Research Analysts and Marketing Specialists', 'Search Marketing Strategists'], 55: ['Advertising Sales Agents', 'Advertising and Promotions Managers', 'Sales Engineers', 'Marketing Managers', 'Market Research Analysts and Marketing Specialists', 'Search Marketing Strategists'], 56: ['Sales Engineers', 'Sales Representatives, Wholesale and Manufacturing, Technical and Scientific Products'], 57: ['Solar Sales Representatives and Assessors'], 58: ['Web and Digital Interface Designers', 'Graphic Designers', 'Set and Exhibit Designers'], 59: ['Media Programming Directors', 'Web and Digital Interface Designers', 'Computer Network Support Specialists', 'Software Developers', 'Software Quality Assurance Analysts and Testers', 'Computer Network Architects', 'Web Developers', 'Database Architects', 'Data Warehousing Specialists', 'Information Security Analysts', 'Computer and Information Systems Managers', 'Database Administrators', 'Computer User Support Specialists', 'Data Scientists', 'Computer and Information Research Scientists', 'Network and Computer Systems Administrators', 'Computer Programmers', 'Computer Hardware Engineers'], 60: ['Database Administrators', 'Library Assistants, Clerical'], 61: ['Computer Network Support Specialists', 'Software Developers', 'Software Quality Assurance Analysts and Testers', 'Computer Network Architects', 'Computer and Information Systems Managers', 'Database Administrators', 'Computer User Support Specialists', 'Computer and Information Research Scientists', 'Network and Computer Systems Administrators', 'Computer Programmers', 'Computer Hardware Engineers'], 62: ['Broadcast Technicians', 'Media Technical Directors/Managers', 'Editors', 'Sound Engineering Technicians', 'Software Developers', 'Telecommunications Engineering Specialists', 'Technical Writers'], 63: ['Computer Network Support Specialists', 'Software Developers', 'Software Quality Assurance Analysts and Testers', 'Computer Network Architects', 'Data Warehousing Specialists', 'Information Security Analysts', 'Computer and Information Systems Managers', 'Database Administrators', 'Computer User Support Specialists', 'Data Scientists', 'Computer and Information Research Scientists', 'Network and Computer Systems Administrators', 'Computer Programmers', 'Computer Hardware Engineers'], 64: ['Costume Attendants', 'Graphic Designers', 'Set and Exhibit Designers'], 65: ['Database Architects', 'Data Warehousing Specialists', 'Information Security Analysts', 'Computer and Information Systems Managers', 'Database Administrators', 'Archivists']}\n"
     ]
    }
   ],
   "source": [
    "temp_dict = {}\n",
    "for i in rows:\n",
    "    if i[0] not in temp_dict.keys():\n",
    "        temp_dict[i[0]] = []    \n",
    "    if i[0] == i[1]:\n",
    "        temp_dict[i[0]].append(sentences[i[0]])\n",
    "        continue\n",
    "    temp_dict[i[0]].append(sentences[i[1]])\n",
    "print(temp_dict)   "
   ]
  },
  {
   "cell_type": "code",
   "execution_count": null,
   "id": "e51f325b",
   "metadata": {},
   "outputs": [],
   "source": []
  },
  {
   "cell_type": "code",
   "execution_count": null,
   "id": "b5c196d5",
   "metadata": {},
   "outputs": [],
   "source": []
  },
  {
   "cell_type": "code",
   "execution_count": null,
   "id": "42b091ba",
   "metadata": {},
   "outputs": [],
   "source": []
  },
  {
   "cell_type": "code",
   "execution_count": null,
   "id": "f3c22ec8",
   "metadata": {},
   "outputs": [],
   "source": []
  },
  {
   "cell_type": "code",
   "execution_count": null,
   "id": "483d48ac",
   "metadata": {},
   "outputs": [],
   "source": []
  },
  {
   "cell_type": "code",
   "execution_count": null,
   "id": "5c39fb46",
   "metadata": {},
   "outputs": [],
   "source": []
  },
  {
   "cell_type": "code",
   "execution_count": 1,
   "id": "891a0e17",
   "metadata": {},
   "outputs": [],
   "source": [
    "import csv\n",
    "\n",
    "import pandas as pd\n",
    "import numpy as np\n",
    "from scipy import spatial\n",
    "from sentence_transformers import SentenceTransformer\n",
    "\n",
    "model = SentenceTransformer('sentence-transformers/bert-base-nli-mean-tokens')\n",
    "\n",
    "\n",
    "def get_embeddings(filename):\n",
    "    with open(filename) as csv_file:\n",
    "        # read the csv file\n",
    "        csv_reader = csv.reader(csv_file)\n",
    "\n",
    "    # now we can use this csv files into the pandas\n",
    "    df = pd.DataFrame([csv_reader], index=None)\n",
    "\n",
    "    df_embedding = df.assign(embeddings=df['Lyric'].apply(\n",
    "        lambda x: model.encode(str(x))))\n",
    "    print(df_embedding)\n",
    "    return df_embedding\n",
    "\n",
    "\n",
    "def get_similarity_score(inp, filename):\n",
    "    data = get_embeddings(filename)\n",
    "    inp_vector = model.encode(inp)\n",
    "    s = data['embeddings'].apply(\n",
    "        lambda x: 1 - spatial.distance.cosine(x, inp_vector))\n",
    "    data = data.assign(similarity=s)\n",
    "    return (data.sort_values('similarity', ascending=False))\n",
    "\n",
    "\n",
    "if __name__ == '__main__':\n",
    "\n",
    "    filename = 'lyrics.csv'     # csv file name\n",
    "\n",
    "    print(get_similarity_score('thinking about you', filename))\n"
   ]
  },
  {
   "cell_type": "code",
   "execution_count": null,
   "id": "c100dc18",
   "metadata": {},
   "outputs": [],
   "source": []
  }
 ],
 "metadata": {
  "kernelspec": {
   "display_name": "Python 3 (ipykernel)",
   "language": "python",
   "name": "python3"
  },
  "language_info": {
   "codemirror_mode": {
    "name": "ipython",
    "version": 3
   },
   "file_extension": ".py",
   "mimetype": "text/x-python",
   "name": "python",
   "nbconvert_exporter": "python",
   "pygments_lexer": "ipython3",
   "version": "3.9.15"
  }
 },
 "nbformat": 4,
 "nbformat_minor": 5
}
