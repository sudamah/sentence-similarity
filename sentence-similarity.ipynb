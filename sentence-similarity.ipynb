{
 "cells": [
  {
   "cell_type": "code",
   "execution_count": 1,
   "id": "40ff8179",
   "metadata": {},
   "outputs": [],
   "source": [
    "import torch\n",
    "import numpy as np\n",
    "import pandas as pd\n",
    "\n",
    "from tqdm import tqdm\n",
    "\n",
    "from transformers import AutoTokenizer, AutoModel\n",
    "from sklearn.metrics.pairwise import cosine_similarity"
   ]
  },
  {
   "cell_type": "code",
   "execution_count": 2,
   "id": "d1ac57b9",
   "metadata": {},
   "outputs": [],
   "source": [
    "import json\n",
    "import os"
   ]
  },
  {
   "cell_type": "code",
   "execution_count": 3,
   "id": "f17d5782",
   "metadata": {},
   "outputs": [],
   "source": [
    "# sentences = [\n",
    "#     \"Three years later, the coffin was still full of Jello.\",\n",
    "#     \"The fish dreamed of escaping the fishbowl and into the toilet where he saw his friend go.\",\n",
    "#     \"The person box was packed with jelly many dozens of months later.\",\n",
    "#     \"Standing on one's head at job interviews forms a lasting impression.\",\n",
    "#     \"It took him a month to finish the meal.\",\n",
    "#     \"He found a leprechaun in his walnut shell.\"\n",
    "# ]"
   ]
  },
  {
   "cell_type": "code",
   "execution_count": 4,
   "id": "d36aff6d",
   "metadata": {},
   "outputs": [
    {
     "data": {
      "text/html": [
       "<div>\n",
       "<style scoped>\n",
       "    .dataframe tbody tr th:only-of-type {\n",
       "        vertical-align: middle;\n",
       "    }\n",
       "\n",
       "    .dataframe tbody tr th {\n",
       "        vertical-align: top;\n",
       "    }\n",
       "\n",
       "    .dataframe thead th {\n",
       "        text-align: right;\n",
       "    }\n",
       "</style>\n",
       "<table border=\"1\" class=\"dataframe\">\n",
       "  <thead>\n",
       "    <tr style=\"text-align: right;\">\n",
       "      <th></th>\n",
       "      <th>Employed by this Industry</th>\n",
       "      <th>Code</th>\n",
       "      <th>Occupation</th>\n",
       "      <th>Projected Growth (2021-2031)</th>\n",
       "      <th>Projected Job Openings (2021-2031)</th>\n",
       "    </tr>\n",
       "  </thead>\n",
       "  <tbody>\n",
       "    <tr>\n",
       "      <th>0</th>\n",
       "      <td>89%</td>\n",
       "      <td>27-3011.00</td>\n",
       "      <td>Broadcast Announcers and Radio Disc Jockeys</td>\n",
       "      <td>Decline</td>\n",
       "      <td>2100</td>\n",
       "    </tr>\n",
       "    <tr>\n",
       "      <th>1</th>\n",
       "      <td>85%</td>\n",
       "      <td>39-3021.00</td>\n",
       "      <td>Motion Picture Projectionists</td>\n",
       "      <td>Much faster than average</td>\n",
       "      <td>700</td>\n",
       "    </tr>\n",
       "    <tr>\n",
       "      <th>2</th>\n",
       "      <td>80%</td>\n",
       "      <td>27-3023.00</td>\n",
       "      <td>News Analysts, Reporters, and Journalists</td>\n",
       "      <td>Decline</td>\n",
       "      <td>4900</td>\n",
       "    </tr>\n",
       "  </tbody>\n",
       "</table>\n",
       "</div>"
      ],
      "text/plain": [
       "  Employed by this Industry        Code  \\\n",
       "0                       89%  27-3011.00   \n",
       "1                       85%  39-3021.00   \n",
       "2                       80%  27-3023.00   \n",
       "\n",
       "                                    Occupation Projected Growth (2021-2031)  \\\n",
       "0  Broadcast Announcers and Radio Disc Jockeys                      Decline   \n",
       "1                Motion Picture Projectionists     Much faster than average   \n",
       "2    News Analysts, Reporters, and Journalists                      Decline   \n",
       "\n",
       "   Projected Job Openings (2021-2031)  \n",
       "0                                2100  \n",
       "1                                 700  \n",
       "2                                4900  "
      ]
     },
     "execution_count": 4,
     "metadata": {},
     "output_type": "execute_result"
    }
   ],
   "source": [
    "df = pd.read_csv('/home/heptagon/Desktop/sentence-similarity/information.csv')\n",
    "df.head(3)"
   ]
  },
  {
   "cell_type": "code",
   "execution_count": 5,
   "id": "96cb7a16",
   "metadata": {},
   "outputs": [
    {
     "name": "stderr",
     "output_type": "stream",
     "text": [
      "100%|███████████████████████████████████████| 66/66 [00:00<00:00, 368607.28it/s]\n"
     ]
    }
   ],
   "source": [
    "sentences = []\n",
    "for key_str in tqdm(df.Occupation):\n",
    "    sentences.append(key_str)\n"
   ]
  },
  {
   "cell_type": "code",
   "execution_count": null,
   "id": "4557f8fb",
   "metadata": {},
   "outputs": [],
   "source": []
  },
  {
   "cell_type": "code",
   "execution_count": 6,
   "id": "35328e19",
   "metadata": {},
   "outputs": [],
   "source": [
    "# if file_extension.endswith(\".csv\"):   # load csv file & convert to dataframe\n",
    "#     df = pd.read_csv(filepath)\n",
    "\n",
    "# if file_extension.endswith(\".xlsx\"):    # load excel file & convert to dataframe\n",
    "#     df = pd.read_excel(filepath)\n",
    "\n",
    "# if file_extension.endswith(\".txt\"):    # load text file into dataframe\n",
    "#     df = pd.read_csv(filepath, sep=',', header=None)\n",
    "    \n",
    "# if file_extension.endswith(\".json\"):   # open json file\n",
    "#     with open(filepath,'r') as file:\n",
    "#         data = json.load(file)\n",
    "#     df = pd.DataFrame(data)    # loading into a DataFrame\n",
    "    \n"
   ]
  },
  {
   "cell_type": "code",
   "execution_count": null,
   "id": "267a83ee",
   "metadata": {},
   "outputs": [],
   "source": []
  },
  {
   "cell_type": "code",
   "execution_count": null,
   "id": "64ea1103",
   "metadata": {},
   "outputs": [],
   "source": []
  },
  {
   "cell_type": "code",
   "execution_count": 7,
   "id": "ddd6edb6",
   "metadata": {},
   "outputs": [
    {
     "data": {
      "text/plain": [
       "66"
      ]
     },
     "execution_count": 7,
     "metadata": {},
     "output_type": "execute_result"
    }
   ],
   "source": [
    "len(sentences)"
   ]
  },
  {
   "cell_type": "code",
   "execution_count": 8,
   "id": "be2c3190",
   "metadata": {},
   "outputs": [],
   "source": [
    "tokenizer = AutoTokenizer.from_pretrained('sentence-transformers/bert-base-nli-mean-tokens')\n",
    "model = AutoModel.from_pretrained('sentence-transformers/bert-base-nli-mean-tokens')\n",
    "\n",
    "# initialize dictionary that will contain tokenized sentences\n",
    "tokens = {'input_ids': [], 'attention_mask': []}\n",
    "\n",
    "for sentence in sentences:\n",
    "    # tokenize sentence and append to dictionary lists\n",
    "    new_tokens = tokenizer.encode_plus(sentence,\n",
    "                                       max_length=128,\n",
    "                                       truncation=True,\n",
    "                                       padding='max_length',\n",
    "                                       return_tensors='pt'\n",
    "                                      )\n",
    "    \n",
    "    tokens['input_ids'].append(new_tokens['input_ids'][0])\n",
    "    tokens['attention_mask'].append(new_tokens['attention_mask'][0])\n",
    "\n",
    "# reformat list of tensors into single tensor\n",
    "tokens['input_ids'] = torch.stack(tokens['input_ids'])\n",
    "tokens['attention_mask'] = torch.stack(tokens['attention_mask'])"
   ]
  },
  {
   "cell_type": "code",
   "execution_count": 9,
   "id": "b2c0d27e",
   "metadata": {},
   "outputs": [
    {
     "data": {
      "text/plain": [
       "torch.Size([66, 128])"
      ]
     },
     "execution_count": 9,
     "metadata": {},
     "output_type": "execute_result"
    }
   ],
   "source": [
    "tokens['input_ids'].shape"
   ]
  },
  {
   "cell_type": "code",
   "execution_count": 10,
   "id": "6a10d3bf",
   "metadata": {},
   "outputs": [
    {
     "data": {
      "text/plain": [
       "odict_keys(['last_hidden_state', 'pooler_output'])"
      ]
     },
     "execution_count": 10,
     "metadata": {},
     "output_type": "execute_result"
    }
   ],
   "source": [
    "outputs = model(**tokens)\n",
    "outputs.keys()"
   ]
  },
  {
   "cell_type": "code",
   "execution_count": 11,
   "id": "bf3ffd07",
   "metadata": {},
   "outputs": [
    {
     "data": {
      "text/plain": [
       "tensor([[[ 0.0608,  0.2513,  0.7702,  ...,  0.9841, -0.1151, -0.6919],\n",
       "         [ 0.9133,  0.1304,  1.0075,  ...,  0.7064,  0.2474, -0.8052],\n",
       "         [ 0.3163,  0.4403,  0.6640,  ...,  0.6056, -0.0948, -0.6583],\n",
       "         ...,\n",
       "         [ 0.2646,  0.0861,  0.6944,  ...,  0.8370, -0.0601, -0.4292],\n",
       "         [ 0.2012,  0.1064,  0.6938,  ...,  0.9053, -0.0914, -0.4583],\n",
       "         [ 0.1990,  0.1777,  0.8084,  ...,  0.8776, -0.0473, -0.4129]],\n",
       "\n",
       "        [[-0.0499, -0.0384,  1.8612,  ..., -0.0534,  0.2067, -0.2082],\n",
       "         [ 0.6296,  0.1262,  1.4102,  ..., -0.1588,  0.1785,  0.3420],\n",
       "         [ 1.0020, -0.1525,  1.3424,  ..., -0.2481,  0.1890,  0.1235],\n",
       "         ...,\n",
       "         [ 0.1118, -0.2418,  1.4215,  ...,  0.0388,  0.2120,  0.1326],\n",
       "         [ 0.1635, -0.1824,  1.4771,  ...,  0.0860,  0.1856,  0.0857],\n",
       "         [ 0.0577, -0.2924,  1.4674,  ...,  0.0199,  0.0755,  0.2070]],\n",
       "\n",
       "        [[ 0.0287,  0.5112,  0.6561,  ..., -0.0769,  0.5289, -0.7474],\n",
       "         [ 0.6630, -0.0700,  0.7891,  ..., -0.3220,  0.7451, -1.0244],\n",
       "         [ 0.4989,  0.5091,  0.3391,  ..., -0.3135,  0.5161, -1.0884],\n",
       "         ...,\n",
       "         [ 0.3082,  0.2120,  0.5700,  ...,  0.1193,  0.4452, -0.7615],\n",
       "         [ 0.3053,  0.2554,  0.6324,  ...,  0.1797,  0.5008, -0.7487],\n",
       "         [ 0.2711,  0.3028,  0.7488,  ...,  0.1864,  0.5197, -0.7053]],\n",
       "\n",
       "        ...,\n",
       "\n",
       "        [[-0.1910,  0.0139,  1.3539,  ..., -0.7065, -0.6051, -0.0597],\n",
       "         [-0.0443,  0.1548,  1.4223,  ..., -0.9413, -1.1366,  0.2618],\n",
       "         [ 0.1751,  0.3374,  1.4330,  ..., -1.1278, -1.0931,  0.1068],\n",
       "         ...,\n",
       "         [ 0.0734,  0.0712,  1.0930,  ..., -0.5474, -0.5461,  0.1309],\n",
       "         [ 0.0482,  0.1030,  1.0629,  ..., -0.4982, -0.5440,  0.0630],\n",
       "         [-0.0823, -0.0926,  1.0783,  ..., -0.2959, -0.4542, -0.0279]],\n",
       "\n",
       "        [[ 0.3606, -0.1528,  1.7254,  ..., -0.7278, -0.6547, -0.5105],\n",
       "         [ 1.0818,  0.2880,  1.7435,  ..., -0.9721, -0.8012, -0.6606],\n",
       "         [ 0.3725, -0.1276,  1.7881,  ..., -0.4877, -0.7154, -0.6930],\n",
       "         ...,\n",
       "         [ 0.6964, -0.2694,  1.1464,  ..., -0.5233, -0.6234, -0.3531],\n",
       "         [ 0.5699, -0.2298,  1.0178,  ..., -0.4125, -0.6078, -0.3470],\n",
       "         [ 0.4999, -0.3224,  1.1162,  ..., -0.3586, -0.5649, -0.3730]],\n",
       "\n",
       "        [[ 0.1258,  0.5106,  1.5911,  ..., -0.4378, -0.2044,  0.1627],\n",
       "         [ 0.2149,  0.8072,  1.5659,  ..., -0.0812, -0.4272,  0.5283],\n",
       "         [ 0.3291,  1.0014,  1.4825,  ..., -0.3512, -0.5543, -0.2010],\n",
       "         ...,\n",
       "         [ 0.1870,  0.5852,  0.9054,  ..., -0.0939, -0.3735,  0.3878],\n",
       "         [ 0.2121,  0.5436,  0.9017,  ..., -0.1058, -0.2490,  0.2039],\n",
       "         [ 0.0930,  0.1783,  1.0203,  ...,  0.0822, -0.1545, -0.0153]]],\n",
       "       grad_fn=<NativeLayerNormBackward0>)"
      ]
     },
     "execution_count": 11,
     "metadata": {},
     "output_type": "execute_result"
    }
   ],
   "source": [
    "embeddings = outputs.last_hidden_state\n",
    "embeddings"
   ]
  },
  {
   "cell_type": "code",
   "execution_count": 12,
   "id": "41fa68ed",
   "metadata": {},
   "outputs": [
    {
     "data": {
      "text/plain": [
       "torch.Size([66, 128, 768])"
      ]
     },
     "execution_count": 12,
     "metadata": {},
     "output_type": "execute_result"
    }
   ],
   "source": [
    "embeddings.shape"
   ]
  },
  {
   "cell_type": "code",
   "execution_count": 13,
   "id": "05ae8df6",
   "metadata": {},
   "outputs": [
    {
     "data": {
      "text/plain": [
       "torch.Size([66, 128])"
      ]
     },
     "execution_count": 13,
     "metadata": {},
     "output_type": "execute_result"
    }
   ],
   "source": [
    "attention_mask = tokens['attention_mask']\n",
    "attention_mask.shape"
   ]
  },
  {
   "cell_type": "code",
   "execution_count": 14,
   "id": "44b14933",
   "metadata": {},
   "outputs": [
    {
     "data": {
      "text/plain": [
       "torch.Size([66, 128, 768])"
      ]
     },
     "execution_count": 14,
     "metadata": {},
     "output_type": "execute_result"
    }
   ],
   "source": [
    "mask = attention_mask.unsqueeze(-1).expand(embeddings.size()).float()\n",
    "mask.shape"
   ]
  },
  {
   "cell_type": "code",
   "execution_count": 15,
   "id": "68f583c0",
   "metadata": {},
   "outputs": [
    {
     "data": {
      "text/plain": [
       "torch.Size([66, 128, 768])"
      ]
     },
     "execution_count": 15,
     "metadata": {},
     "output_type": "execute_result"
    }
   ],
   "source": [
    "masked_embeddings = embeddings * mask\n",
    "masked_embeddings.shape"
   ]
  },
  {
   "cell_type": "code",
   "execution_count": 16,
   "id": "05fc23f5",
   "metadata": {},
   "outputs": [
    {
     "data": {
      "text/plain": [
       "torch.Size([66, 768])"
      ]
     },
     "execution_count": 16,
     "metadata": {},
     "output_type": "execute_result"
    }
   ],
   "source": [
    "summed = torch.sum(masked_embeddings, 1)\n",
    "summed.shape"
   ]
  },
  {
   "cell_type": "code",
   "execution_count": 17,
   "id": "ec0267b8",
   "metadata": {},
   "outputs": [
    {
     "data": {
      "text/plain": [
       "torch.Size([66, 768])"
      ]
     },
     "execution_count": 17,
     "metadata": {},
     "output_type": "execute_result"
    }
   ],
   "source": [
    "summed_mask = torch.clamp(mask.sum(1), min=1e-9)\n",
    "summed_mask.shape"
   ]
  },
  {
   "cell_type": "code",
   "execution_count": 18,
   "id": "08320114",
   "metadata": {},
   "outputs": [
    {
     "data": {
      "text/plain": [
       "tensor([[ 0.3616,  0.0936,  0.9224,  ...,  0.9126, -0.0742, -0.7194],\n",
       "        [ 0.5937, -0.0762,  1.6927,  ..., -0.0575,  0.0362, -0.0171],\n",
       "        [ 0.4736,  0.3709,  0.6660,  ..., -0.1013,  0.5430, -1.0005],\n",
       "        ...,\n",
       "        [ 0.0290,  0.0665,  1.3636,  ..., -0.7722, -0.9682,  0.0473],\n",
       "        [ 0.6357,  0.0324,  1.8577,  ..., -0.5765, -0.7784, -0.7426],\n",
       "        [ 0.2514,  0.7104,  1.6318,  ..., -0.3017, -0.4447,  0.1687]],\n",
       "       grad_fn=<DivBackward0>)"
      ]
     },
     "execution_count": 18,
     "metadata": {},
     "output_type": "execute_result"
    }
   ],
   "source": [
    "mean_pooled = summed / summed_mask\n",
    "mean_pooled"
   ]
  },
  {
   "cell_type": "code",
   "execution_count": 19,
   "id": "a96165f4",
   "metadata": {},
   "outputs": [],
   "source": [
    "# convert from PyTorch tensor to numpy array\n",
    "mean_pooled = mean_pooled.detach().numpy()"
   ]
  },
  {
   "cell_type": "code",
   "execution_count": 20,
   "id": "6bc9e60f",
   "metadata": {},
   "outputs": [
    {
     "data": {
      "text/plain": [
       "array([[ 0.36157602,  0.09358482,  0.92236423, ...,  0.91257954,\n",
       "        -0.07423987, -0.7193927 ],\n",
       "       [ 0.593666  , -0.07615194,  1.6927055 , ..., -0.05754603,\n",
       "         0.03617936, -0.01708179],\n",
       "       [ 0.47358528,  0.3708792 ,  0.66595584, ..., -0.1012688 ,\n",
       "         0.54300445, -1.0005151 ],\n",
       "       ...,\n",
       "       [ 0.02898995,  0.06645408,  1.3635979 , ..., -0.7722109 ,\n",
       "        -0.9681676 ,  0.04727154],\n",
       "       [ 0.63572997,  0.0324267 ,  1.8576798 , ..., -0.576498  ,\n",
       "        -0.7783937 , -0.7426126 ],\n",
       "       [ 0.25139147,  0.7104294 ,  1.6318375 , ..., -0.30172223,\n",
       "        -0.44473323,  0.16868499]], dtype=float32)"
      ]
     },
     "execution_count": 20,
     "metadata": {},
     "output_type": "execute_result"
    }
   ],
   "source": [
    "mean_pooled"
   ]
  },
  {
   "cell_type": "code",
   "execution_count": 21,
   "id": "5cae6aed",
   "metadata": {},
   "outputs": [],
   "source": [
    "# # calculate cosine_similarity\n",
    "# cosine_similarity(\n",
    "#     [mean_pooled[0]],\n",
    "#     mean_pooled[1:]\n",
    "# )"
   ]
  },
  {
   "cell_type": "code",
   "execution_count": 22,
   "id": "62c51db0",
   "metadata": {},
   "outputs": [
    {
     "name": "stdout",
     "output_type": "stream",
     "text": [
      "[[0.9999995  0.40466464 0.5272178  ... 0.36013797 0.38598788 0.36719847]\n",
      " [0.40466464 1.0000001  0.36913183 ... 0.37598765 0.49970976 0.51804054]\n",
      " [0.5272178  0.36913183 1.0000002  ... 0.400357   0.43337142 0.5019165 ]\n",
      " ...\n",
      " [0.36013797 0.37598765 0.400357   ... 1.0000002  0.49113446 0.6049912 ]\n",
      " [0.38598788 0.49970976 0.43337142 ... 0.49113446 0.9999999  0.57435197]\n",
      " [0.36719847 0.51804054 0.5019165  ... 0.6049912  0.57435197 1.0000002 ]]\n",
      "CPU times: user 2 µs, sys: 4 ms, total: 4.01 ms\n",
      "Wall time: 4.71 ms\n"
     ]
    }
   ],
   "source": [
    "%%time\n",
    "\n",
    "result = cosine_similarity(mean_pooled,mean_pooled)\n",
    "print(result)"
   ]
  },
  {
   "cell_type": "code",
   "execution_count": 23,
   "id": "e67cb849",
   "metadata": {},
   "outputs": [
    {
     "data": {
      "text/plain": [
       "array([[ 0,  0],\n",
       "       [ 0,  3],\n",
       "       [ 0, 21],\n",
       "       ...,\n",
       "       [65, 62],\n",
       "       [65, 63],\n",
       "       [65, 65]])"
      ]
     },
     "execution_count": 23,
     "metadata": {},
     "output_type": "execute_result"
    }
   ],
   "source": [
    "# while True:\n",
    "rows=np.argwhere(result>.6)\n",
    "rows"
   ]
  },
  {
   "cell_type": "code",
   "execution_count": 24,
   "id": "32ffc7cb",
   "metadata": {},
   "outputs": [
    {
     "name": "stdout",
     "output_type": "stream",
     "text": [
      "{0: [0, 3, 21, 30], 1: [1, 6, 12, 16, 19, 25], 2: [2, 3, 9], 3: [0, 2, 3, 5, 6, 7, 8, 9, 11, 13, 15, 16, 17, 19, 20, 21, 24, 25, 26, 30, 33, 35, 37, 39, 41, 42, 50, 59, 62, 64], 4: [4, 5, 21, 29, 33, 38, 41, 45], 5: [3, 4, 5, 7, 9, 13, 21, 24, 25, 28, 30, 32, 33, 37, 39, 41, 42, 46, 56, 59, 62, 63], 6: [1, 3, 6, 7, 8, 9, 11, 12, 13, 15, 16, 19, 25, 26, 35, 43, 47, 62, 64, 65], 7: [3, 5, 6, 7, 8, 9, 10, 11, 12, 15, 17, 19, 20, 22, 24, 25, 27, 32, 33, 34, 35, 36, 37, 39, 42, 43, 44, 46, 47, 50, 51, 53, 54, 55, 56, 58, 59, 62, 64, 65], 8: [3, 6, 7, 8, 9, 10, 11, 15, 19, 25, 27, 35, 37, 39, 43, 47, 50, 54, 55, 62, 64, 65], 9: [2, 3, 5, 6, 7, 8, 9, 10, 11, 15, 17, 20, 21, 24, 25, 33, 35, 36, 37, 39, 42, 43, 46, 47, 50, 51, 55, 56, 58, 59, 62, 64, 65], 10: [7, 8, 9, 10, 35, 38, 43, 47, 51, 54, 55, 56], 11: [3, 6, 7, 8, 9, 11, 12, 15, 19, 35, 36, 42, 47, 48, 58, 62, 65], 12: [1, 6, 7, 11, 12, 16, 23, 25], 13: [3, 5, 6, 13, 21, 25, 26, 28, 30, 33, 62], 14: [14, 60], 15: [3, 6, 7, 8, 9, 11, 15, 19, 35, 58, 62, 64, 65], 16: [1, 3, 6, 12, 16, 25], 17: [3, 7, 9, 17, 20, 21, 62], 18: [18, 22, 24, 32, 34, 36, 42, 44, 45, 46, 53, 59, 60, 61, 63], 19: [1, 3, 6, 7, 8, 11, 15, 19, 48], 20: [3, 7, 9, 17, 20], 21: [0, 3, 4, 5, 9, 13, 17, 21, 24, 25, 30, 33, 37, 41, 56, 62], 22: [7, 18, 22, 24, 27, 28, 32, 34, 36, 37, 39, 42, 44, 46, 50, 53, 55, 58, 59, 61, 63, 64], 23: [12, 23, 27, 32, 61, 63], 24: [3, 5, 7, 9, 18, 21, 22, 24, 25, 27, 28, 32, 33, 34, 36, 37, 39, 42, 44, 45, 46, 50, 51, 53, 56, 59, 60, 61, 62, 63, 65], 25: [1, 3, 5, 6, 7, 8, 9, 12, 13, 16, 21, 24, 25, 26, 27, 28, 30, 33, 37, 39, 42, 46, 50, 53, 59, 63], 26: [3, 6, 13, 25, 26, 28, 40, 58, 62], 27: [7, 8, 22, 23, 24, 25, 27, 28, 32, 33, 34, 36, 37, 39, 42, 44, 46, 50, 53, 58, 59, 61, 62, 63, 65], 28: [5, 13, 22, 24, 25, 26, 27, 28, 32, 36, 37, 39, 40, 42, 43, 44, 46, 50, 51, 53, 56, 59, 61, 62, 63, 65], 29: [4, 29, 32, 45, 61, 63], 30: [0, 3, 5, 13, 21, 25, 30, 33, 41, 62], 31: [31], 32: [5, 7, 18, 22, 23, 24, 27, 28, 29, 32, 33, 34, 36, 37, 39, 42, 44, 45, 46, 50, 53, 58, 59, 60, 61, 63], 33: [3, 4, 5, 7, 9, 13, 21, 24, 25, 27, 30, 32, 33, 37, 39, 41, 42, 46, 50, 53, 59, 62, 63], 34: [7, 18, 22, 24, 27, 32, 34, 36, 37, 39, 42, 44, 46, 50, 53, 55, 58, 59, 61], 35: [3, 6, 7, 8, 9, 10, 11, 15, 35, 37, 39, 42, 43, 47, 51, 54, 55, 56, 64, 65], 36: [7, 9, 11, 18, 22, 24, 27, 28, 32, 34, 36, 37, 39, 40, 42, 44, 46, 50, 51, 53, 55, 59, 60, 61, 62, 63, 65], 37: [3, 5, 7, 8, 9, 21, 22, 24, 25, 27, 28, 32, 33, 34, 35, 36, 37, 39, 40, 42, 43, 44, 46, 47, 50, 51, 53, 54, 55, 56, 59, 60, 61, 62, 63, 65], 38: [4, 10, 38, 45], 39: [3, 5, 7, 8, 9, 22, 24, 25, 27, 28, 32, 33, 34, 35, 36, 37, 39, 42, 43, 44, 46, 47, 50, 51, 53, 54, 55, 56, 59, 61, 62, 63, 65], 40: [26, 28, 36, 37, 40, 48, 58, 62], 41: [3, 4, 5, 21, 30, 33, 41], 42: [3, 5, 7, 9, 11, 18, 22, 24, 25, 27, 28, 32, 33, 34, 35, 36, 37, 39, 42, 43, 44, 46, 47, 50, 51, 53, 55, 56, 58, 59, 60, 61, 62, 63, 65], 43: [6, 7, 8, 9, 10, 28, 35, 37, 39, 42, 43, 44, 47, 51, 54, 55, 56, 57, 60, 62, 64, 65], 44: [7, 18, 22, 24, 27, 28, 32, 34, 36, 37, 39, 42, 43, 44, 46, 50, 51, 53, 55, 59, 60, 61, 63, 65], 45: [4, 18, 24, 29, 32, 38, 45, 46, 60, 61, 63], 46: [5, 7, 9, 18, 22, 24, 25, 27, 28, 32, 33, 34, 36, 37, 39, 42, 44, 45, 46, 50, 51, 53, 59, 60, 61, 62, 63, 65], 47: [6, 7, 8, 9, 10, 11, 35, 37, 39, 42, 43, 47, 51, 54, 55, 56, 64], 48: [11, 19, 40, 48, 49, 58, 62], 49: [48, 49], 50: [3, 7, 8, 9, 22, 24, 25, 27, 28, 32, 33, 34, 36, 37, 39, 42, 44, 46, 50, 51, 53, 59, 61, 62, 63, 65], 51: [7, 9, 10, 24, 28, 35, 36, 37, 39, 42, 43, 44, 46, 47, 50, 51, 53, 54, 55, 56, 59], 52: [52], 53: [7, 18, 22, 24, 25, 27, 28, 32, 33, 34, 36, 37, 39, 42, 44, 46, 50, 51, 53, 56, 59, 60, 61, 62, 63, 65], 54: [7, 8, 10, 35, 37, 39, 43, 47, 51, 54, 55, 56], 55: [7, 8, 9, 10, 22, 34, 35, 36, 37, 39, 42, 43, 44, 47, 51, 54, 55, 56, 59], 56: [5, 7, 9, 10, 21, 24, 28, 35, 37, 39, 42, 43, 47, 51, 53, 54, 55, 56, 57, 59, 60, 62, 64, 65], 57: [43, 56, 57], 58: [7, 9, 11, 15, 22, 26, 27, 32, 34, 40, 42, 48, 58, 59, 62, 64], 59: [3, 5, 7, 9, 18, 22, 24, 25, 27, 28, 32, 33, 34, 36, 37, 39, 42, 44, 46, 50, 51, 53, 55, 56, 58, 59, 60, 61, 62, 63, 65], 60: [14, 18, 24, 32, 36, 37, 42, 43, 44, 45, 46, 53, 56, 59, 60, 61, 63, 65], 61: [18, 22, 23, 24, 27, 28, 29, 32, 34, 36, 37, 39, 42, 44, 45, 46, 50, 53, 59, 60, 61, 62, 63], 62: [3, 5, 6, 7, 8, 9, 11, 13, 15, 17, 21, 24, 26, 27, 28, 30, 33, 36, 37, 39, 40, 42, 43, 46, 48, 50, 53, 56, 58, 59, 61, 62, 63, 64, 65], 63: [5, 18, 22, 23, 24, 25, 27, 28, 29, 32, 33, 36, 37, 39, 42, 44, 45, 46, 50, 53, 59, 60, 61, 62, 63, 65], 64: [3, 6, 7, 8, 9, 15, 22, 35, 43, 47, 56, 58, 62, 64], 65: [6, 7, 8, 9, 11, 15, 24, 27, 28, 35, 36, 37, 39, 42, 43, 44, 46, 50, 53, 56, 59, 60, 62, 63, 65]}\n"
     ]
    }
   ],
   "source": [
    "temp_dict = {}\n",
    "for i in rows:\n",
    "    if i[0] not in temp_dict.keys():\n",
    "        temp_dict[i[0]] = []    \n",
    "        \n",
    "    if i[0] == i[1]:\n",
    "        temp_dict[i[0]].append(i[0])\n",
    "        continue\n",
    "    temp_dict[i[0]].append(i[1])\n",
    "    \n",
    "print(temp_dict)  \n",
    "\n",
    "# if temp_dict[i[0]] in temp_dict.values():\n"
   ]
  },
  {
   "cell_type": "code",
   "execution_count": null,
   "id": "cdc6634b",
   "metadata": {},
   "outputs": [],
   "source": []
  },
  {
   "cell_type": "code",
   "execution_count": null,
   "id": "32240791",
   "metadata": {},
   "outputs": [],
   "source": []
  },
  {
   "cell_type": "code",
   "execution_count": null,
   "id": "76e72d19",
   "metadata": {},
   "outputs": [],
   "source": []
  },
  {
   "cell_type": "code",
   "execution_count": null,
   "id": "6b8a0c23",
   "metadata": {},
   "outputs": [],
   "source": []
  },
  {
   "cell_type": "code",
   "execution_count": 25,
   "id": "fefc51b2",
   "metadata": {},
   "outputs": [
    {
     "name": "stdout",
     "output_type": "stream",
     "text": [
      "{0: ['Broadcast Announcers and Radio Disc Jockeys', 'Broadcast Technicians', 'Radio, Cellular, and Tower Equipment Installers and Repairers', 'Radio Frequency Identification Device Specialists'], 1: ['Motion Picture Projectionists', 'Producers and Directors', 'Film and Video Editors', 'Camera Operators, Television, Video, and Film', 'Actors', 'Audio and Video Technicians'], 2: ['News Analysts, Reporters, and Journalists', 'Broadcast Technicians', 'Media Technical Directors/Managers'], 3: ['Broadcast Announcers and Radio Disc Jockeys', 'News Analysts, Reporters, and Journalists', 'Broadcast Technicians', 'Telecommunications Line Installers and Repairers', 'Producers and Directors', 'Media Programming Directors', 'Talent Directors', 'Media Technical Directors/Managers', 'Editors', 'Sound Engineering Technicians', 'Costume Attendants', 'Camera Operators, Television, Video, and Film', 'Media and Communication Equipment Workers, All Other', 'Actors', 'Media and Communication Workers, All Other', 'Radio, Cellular, and Tower Equipment Installers and Repairers', 'Computer Network Support Specialists', 'Audio and Video Technicians', 'Special Effects Artists and Animators', 'Radio Frequency Identification Device Specialists', 'Telecommunications Engineering Specialists', 'Advertising and Promotions Managers', 'Data Warehousing Specialists', 'Information Security Analysts', 'Telephone Operators', 'Computer and Information Systems Managers', 'Data Scientists', 'Network and Computer Systems Administrators', 'Technical Writers', 'Set and Exhibit Designers'], 4: ['Telecommunications Equipment Installers and Repairers, Except Line Installers', 'Telecommunications Line Installers and Repairers', 'Radio, Cellular, and Tower Equipment Installers and Repairers', 'Electronics Engineers, Except Computer', 'Telecommunications Engineering Specialists', 'Sales Representatives of Services, Except Advertising, Insurance, Financial Services, and Travel', 'Telephone Operators', 'Office Machine Operators, Except Computer'], 5: ['Broadcast Technicians', 'Telecommunications Equipment Installers and Repairers, Except Line Installers', 'Telecommunications Line Installers and Repairers', 'Media Programming Directors', 'Media Technical Directors/Managers', 'Sound Engineering Technicians', 'Radio, Cellular, and Tower Equipment Installers and Repairers', 'Computer Network Support Specialists', 'Audio and Video Technicians', 'Software Quality Assurance Analysts and Testers', 'Radio Frequency Identification Device Specialists', 'Computer Network Architects', 'Telecommunications Engineering Specialists', 'Data Warehousing Specialists', 'Information Security Analysts', 'Telephone Operators', 'Computer and Information Systems Managers', 'Computer User Support Specialists', 'Sales Representatives, Wholesale and Manufacturing, Technical and Scientific Products', 'Network and Computer Systems Administrators', 'Technical Writers', 'Computer Hardware Engineers'], 6: ['Motion Picture Projectionists', 'Broadcast Technicians', 'Producers and Directors', 'Media Programming Directors', 'Talent Directors', 'Media Technical Directors/Managers', 'Editors', 'Film and Video Editors', 'Sound Engineering Technicians', 'Costume Attendants', 'Camera Operators, Television, Video, and Film', 'Actors', 'Audio and Video Technicians', 'Special Effects Artists and Animators', 'Advertising and Promotions Managers', 'Sales Engineers', 'Marketing Managers', 'Technical Writers', 'Set and Exhibit Designers', 'Archivists'], 7: ['Broadcast Technicians', 'Telecommunications Line Installers and Repairers', 'Producers and Directors', 'Media Programming Directors', 'Talent Directors', 'Media Technical Directors/Managers', 'Advertising Sales Agents', 'Editors', 'Film and Video Editors', 'Costume Attendants', 'Media and Communication Equipment Workers, All Other', 'Actors', 'Media and Communication Workers, All Other', 'Web and Digital Interface Designers', 'Computer Network Support Specialists', 'Audio and Video Technicians', 'Software Developers', 'Computer Network Architects', 'Telecommunications Engineering Specialists', 'Web Developers', 'Advertising and Promotions Managers', 'Database Architects', 'Data Warehousing Specialists', 'Information Security Analysts', 'Computer and Information Systems Managers', 'Sales Engineers', 'Database Administrators', 'Computer User Support Specialists', 'Marketing Managers', 'Data Scientists', 'Business Intelligence Analysts', 'Computer and Information Research Scientists', 'Market Research Analysts and Marketing Specialists', 'Search Marketing Strategists', 'Sales Representatives, Wholesale and Manufacturing, Technical and Scientific Products', 'Graphic Designers', 'Network and Computer Systems Administrators', 'Technical Writers', 'Set and Exhibit Designers', 'Archivists'], 8: ['Broadcast Technicians', 'Producers and Directors', 'Media Programming Directors', 'Talent Directors', 'Media Technical Directors/Managers', 'Advertising Sales Agents', 'Editors', 'Costume Attendants', 'Actors', 'Audio and Video Technicians', 'Software Developers', 'Advertising and Promotions Managers', 'Data Warehousing Specialists', 'Information Security Analysts', 'Sales Engineers', 'Marketing Managers', 'Data Scientists', 'Market Research Analysts and Marketing Specialists', 'Search Marketing Strategists', 'Technical Writers', 'Set and Exhibit Designers', 'Archivists'], 9: ['News Analysts, Reporters, and Journalists', 'Broadcast Technicians', 'Telecommunications Line Installers and Repairers', 'Producers and Directors', 'Media Programming Directors', 'Talent Directors', 'Media Technical Directors/Managers', 'Advertising Sales Agents', 'Editors', 'Costume Attendants', 'Media and Communication Equipment Workers, All Other', 'Media and Communication Workers, All Other', 'Radio, Cellular, and Tower Equipment Installers and Repairers', 'Computer Network Support Specialists', 'Audio and Video Technicians', 'Telecommunications Engineering Specialists', 'Advertising and Promotions Managers', 'Database Architects', 'Data Warehousing Specialists', 'Information Security Analysts', 'Computer and Information Systems Managers', 'Sales Engineers', 'Computer User Support Specialists', 'Marketing Managers', 'Data Scientists', 'Business Intelligence Analysts', 'Search Marketing Strategists', 'Sales Representatives, Wholesale and Manufacturing, Technical and Scientific Products', 'Graphic Designers', 'Network and Computer Systems Administrators', 'Technical Writers', 'Set and Exhibit Designers', 'Archivists'], 10: ['Media Programming Directors', 'Talent Directors', 'Media Technical Directors/Managers', 'Advertising Sales Agents', 'Advertising and Promotions Managers', 'Sales Representatives of Services, Except Advertising, Insurance, Financial Services, and Travel', 'Sales Engineers', 'Marketing Managers', 'Business Intelligence Analysts', 'Market Research Analysts and Marketing Specialists', 'Search Marketing Strategists', 'Sales Representatives, Wholesale and Manufacturing, Technical and Scientific Products'], 11: ['Broadcast Technicians', 'Producers and Directors', 'Media Programming Directors', 'Talent Directors', 'Media Technical Directors/Managers', 'Editors', 'Film and Video Editors', 'Costume Attendants', 'Actors', 'Advertising and Promotions Managers', 'Database Architects', 'Computer and Information Systems Managers', 'Marketing Managers', 'Writers and Authors', 'Graphic Designers', 'Technical Writers', 'Archivists'], 12: ['Motion Picture Projectionists', 'Producers and Directors', 'Media Programming Directors', 'Editors', 'Film and Video Editors', 'Camera Operators, Television, Video, and Film', 'Video Game Designers', 'Audio and Video Technicians'], 13: ['Broadcast Technicians', 'Telecommunications Line Installers and Repairers', 'Producers and Directors', 'Sound Engineering Technicians', 'Radio, Cellular, and Tower Equipment Installers and Repairers', 'Audio and Video Technicians', 'Special Effects Artists and Animators', 'Software Quality Assurance Analysts and Testers', 'Radio Frequency Identification Device Specialists', 'Telecommunications Engineering Specialists', 'Technical Writers'], 14: ['Ushers, Lobby Attendants, and Ticket Takers', 'Library Assistants, Clerical'], 15: ['Broadcast Technicians', 'Producers and Directors', 'Media Programming Directors', 'Talent Directors', 'Media Technical Directors/Managers', 'Editors', 'Costume Attendants', 'Actors', 'Advertising and Promotions Managers', 'Graphic Designers', 'Technical Writers', 'Set and Exhibit Designers', 'Archivists'], 16: ['Motion Picture Projectionists', 'Broadcast Technicians', 'Producers and Directors', 'Film and Video Editors', 'Camera Operators, Television, Video, and Film', 'Audio and Video Technicians'], 17: ['Broadcast Technicians', 'Media Programming Directors', 'Media Technical Directors/Managers', 'Media and Communication Equipment Workers, All Other', 'Media and Communication Workers, All Other', 'Radio, Cellular, and Tower Equipment Installers and Repairers', 'Technical Writers'], 18: ['Desktop Publishers', 'Web and Digital Interface Designers', 'Computer Network Support Specialists', 'Computer Network Architects', 'Web Developers', 'Database Architects', 'Computer and Information Systems Managers', 'Database Administrators', 'Office Machine Operators, Except Computer', 'Computer User Support Specialists', 'Computer and Information Research Scientists', 'Network and Computer Systems Administrators', 'Library Assistants, Clerical', 'Computer Programmers', 'Computer Hardware Engineers'], 19: ['Motion Picture Projectionists', 'Broadcast Technicians', 'Producers and Directors', 'Media Programming Directors', 'Talent Directors', 'Editors', 'Costume Attendants', 'Actors', 'Writers and Authors'], 20: ['Broadcast Technicians', 'Media Programming Directors', 'Media Technical Directors/Managers', 'Media and Communication Equipment Workers, All Other', 'Media and Communication Workers, All Other'], 21: ['Broadcast Announcers and Radio Disc Jockeys', 'Broadcast Technicians', 'Telecommunications Equipment Installers and Repairers, Except Line Installers', 'Telecommunications Line Installers and Repairers', 'Media Technical Directors/Managers', 'Sound Engineering Technicians', 'Media and Communication Equipment Workers, All Other', 'Radio, Cellular, and Tower Equipment Installers and Repairers', 'Computer Network Support Specialists', 'Audio and Video Technicians', 'Radio Frequency Identification Device Specialists', 'Telecommunications Engineering Specialists', 'Data Warehousing Specialists', 'Telephone Operators', 'Sales Representatives, Wholesale and Manufacturing, Technical and Scientific Products', 'Technical Writers'], 22: ['Media Programming Directors', 'Desktop Publishers', 'Web and Digital Interface Designers', 'Computer Network Support Specialists', 'Software Developers', 'Software Quality Assurance Analysts and Testers', 'Computer Network Architects', 'Web Developers', 'Database Architects', 'Data Warehousing Specialists', 'Information Security Analysts', 'Computer and Information Systems Managers', 'Database Administrators', 'Computer User Support Specialists', 'Data Scientists', 'Computer and Information Research Scientists', 'Search Marketing Strategists', 'Graphic Designers', 'Network and Computer Systems Administrators', 'Computer Programmers', 'Computer Hardware Engineers', 'Set and Exhibit Designers'], 23: ['Film and Video Editors', 'Video Game Designers', 'Software Developers', 'Computer Network Architects', 'Computer Programmers', 'Computer Hardware Engineers'], 24: ['Broadcast Technicians', 'Telecommunications Line Installers and Repairers', 'Media Programming Directors', 'Media Technical Directors/Managers', 'Desktop Publishers', 'Radio, Cellular, and Tower Equipment Installers and Repairers', 'Web and Digital Interface Designers', 'Computer Network Support Specialists', 'Audio and Video Technicians', 'Software Developers', 'Software Quality Assurance Analysts and Testers', 'Computer Network Architects', 'Telecommunications Engineering Specialists', 'Web Developers', 'Database Architects', 'Data Warehousing Specialists', 'Information Security Analysts', 'Computer and Information Systems Managers', 'Database Administrators', 'Office Machine Operators, Except Computer', 'Computer User Support Specialists', 'Data Scientists', 'Business Intelligence Analysts', 'Computer and Information Research Scientists', 'Sales Representatives, Wholesale and Manufacturing, Technical and Scientific Products', 'Network and Computer Systems Administrators', 'Library Assistants, Clerical', 'Computer Programmers', 'Technical Writers', 'Computer Hardware Engineers', 'Archivists'], 25: ['Motion Picture Projectionists', 'Broadcast Technicians', 'Telecommunications Line Installers and Repairers', 'Producers and Directors', 'Media Programming Directors', 'Talent Directors', 'Media Technical Directors/Managers', 'Film and Video Editors', 'Sound Engineering Technicians', 'Camera Operators, Television, Video, and Film', 'Radio, Cellular, and Tower Equipment Installers and Repairers', 'Computer Network Support Specialists', 'Audio and Video Technicians', 'Special Effects Artists and Animators', 'Software Developers', 'Software Quality Assurance Analysts and Testers', 'Radio Frequency Identification Device Specialists', 'Telecommunications Engineering Specialists', 'Data Warehousing Specialists', 'Information Security Analysts', 'Computer and Information Systems Managers', 'Computer User Support Specialists', 'Data Scientists', 'Computer and Information Research Scientists', 'Network and Computer Systems Administrators', 'Computer Hardware Engineers'], 26: ['Broadcast Technicians', 'Producers and Directors', 'Sound Engineering Technicians', 'Audio and Video Technicians', 'Special Effects Artists and Animators', 'Software Quality Assurance Analysts and Testers', 'Proofreaders and Copy Markers', 'Graphic Designers', 'Technical Writers'], 27: ['Media Programming Directors', 'Talent Directors', 'Web and Digital Interface Designers', 'Video Game Designers', 'Computer Network Support Specialists', 'Audio and Video Technicians', 'Software Developers', 'Software Quality Assurance Analysts and Testers', 'Computer Network Architects', 'Telecommunications Engineering Specialists', 'Web Developers', 'Database Architects', 'Data Warehousing Specialists', 'Information Security Analysts', 'Computer and Information Systems Managers', 'Database Administrators', 'Computer User Support Specialists', 'Data Scientists', 'Computer and Information Research Scientists', 'Graphic Designers', 'Network and Computer Systems Administrators', 'Computer Programmers', 'Technical Writers', 'Computer Hardware Engineers', 'Archivists'], 28: ['Telecommunications Line Installers and Repairers', 'Sound Engineering Technicians', 'Web and Digital Interface Designers', 'Computer Network Support Specialists', 'Audio and Video Technicians', 'Special Effects Artists and Animators', 'Software Developers', 'Software Quality Assurance Analysts and Testers', 'Computer Network Architects', 'Database Architects', 'Data Warehousing Specialists', 'Information Security Analysts', 'Proofreaders and Copy Markers', 'Computer and Information Systems Managers', 'Sales Engineers', 'Database Administrators', 'Computer User Support Specialists', 'Data Scientists', 'Business Intelligence Analysts', 'Computer and Information Research Scientists', 'Sales Representatives, Wholesale and Manufacturing, Technical and Scientific Products', 'Network and Computer Systems Administrators', 'Computer Programmers', 'Technical Writers', 'Computer Hardware Engineers', 'Archivists'], 29: ['Telecommunications Equipment Installers and Repairers, Except Line Installers', 'Electronics Engineers, Except Computer', 'Computer Network Architects', 'Office Machine Operators, Except Computer', 'Computer Programmers', 'Computer Hardware Engineers'], 30: ['Broadcast Announcers and Radio Disc Jockeys', 'Broadcast Technicians', 'Telecommunications Line Installers and Repairers', 'Sound Engineering Technicians', 'Radio, Cellular, and Tower Equipment Installers and Repairers', 'Audio and Video Technicians', 'Radio Frequency Identification Device Specialists', 'Telecommunications Engineering Specialists', 'Telephone Operators', 'Technical Writers'], 31: ['Atmospheric and Space Scientists'], 32: ['Telecommunications Line Installers and Repairers', 'Media Programming Directors', 'Desktop Publishers', 'Web and Digital Interface Designers', 'Video Game Designers', 'Computer Network Support Specialists', 'Software Developers', 'Software Quality Assurance Analysts and Testers', 'Electronics Engineers, Except Computer', 'Computer Network Architects', 'Telecommunications Engineering Specialists', 'Web Developers', 'Database Architects', 'Data Warehousing Specialists', 'Information Security Analysts', 'Computer and Information Systems Managers', 'Database Administrators', 'Office Machine Operators, Except Computer', 'Computer User Support Specialists', 'Data Scientists', 'Computer and Information Research Scientists', 'Graphic Designers', 'Network and Computer Systems Administrators', 'Library Assistants, Clerical', 'Computer Programmers', 'Computer Hardware Engineers'], 33: ['Broadcast Technicians', 'Telecommunications Equipment Installers and Repairers, Except Line Installers', 'Telecommunications Line Installers and Repairers', 'Media Programming Directors', 'Media Technical Directors/Managers', 'Sound Engineering Technicians', 'Radio, Cellular, and Tower Equipment Installers and Repairers', 'Computer Network Support Specialists', 'Audio and Video Technicians', 'Software Developers', 'Radio Frequency Identification Device Specialists', 'Computer Network Architects', 'Telecommunications Engineering Specialists', 'Data Warehousing Specialists', 'Information Security Analysts', 'Telephone Operators', 'Computer and Information Systems Managers', 'Computer User Support Specialists', 'Data Scientists', 'Computer and Information Research Scientists', 'Network and Computer Systems Administrators', 'Technical Writers', 'Computer Hardware Engineers'], 34: ['Media Programming Directors', 'Desktop Publishers', 'Web and Digital Interface Designers', 'Computer Network Support Specialists', 'Software Developers', 'Computer Network Architects', 'Web Developers', 'Database Architects', 'Data Warehousing Specialists', 'Information Security Analysts', 'Computer and Information Systems Managers', 'Database Administrators', 'Computer User Support Specialists', 'Data Scientists', 'Computer and Information Research Scientists', 'Search Marketing Strategists', 'Graphic Designers', 'Network and Computer Systems Administrators', 'Computer Programmers'], 35: ['Broadcast Technicians', 'Producers and Directors', 'Media Programming Directors', 'Talent Directors', 'Media Technical Directors/Managers', 'Advertising Sales Agents', 'Editors', 'Costume Attendants', 'Advertising and Promotions Managers', 'Data Warehousing Specialists', 'Information Security Analysts', 'Computer and Information Systems Managers', 'Sales Engineers', 'Marketing Managers', 'Business Intelligence Analysts', 'Market Research Analysts and Marketing Specialists', 'Search Marketing Strategists', 'Sales Representatives, Wholesale and Manufacturing, Technical and Scientific Products', 'Set and Exhibit Designers', 'Archivists'], 36: ['Media Programming Directors', 'Media Technical Directors/Managers', 'Editors', 'Desktop Publishers', 'Web and Digital Interface Designers', 'Computer Network Support Specialists', 'Software Developers', 'Software Quality Assurance Analysts and Testers', 'Computer Network Architects', 'Web Developers', 'Database Architects', 'Data Warehousing Specialists', 'Information Security Analysts', 'Proofreaders and Copy Markers', 'Computer and Information Systems Managers', 'Database Administrators', 'Computer User Support Specialists', 'Data Scientists', 'Business Intelligence Analysts', 'Computer and Information Research Scientists', 'Search Marketing Strategists', 'Network and Computer Systems Administrators', 'Library Assistants, Clerical', 'Computer Programmers', 'Technical Writers', 'Computer Hardware Engineers', 'Archivists'], 37: ['Broadcast Technicians', 'Telecommunications Line Installers and Repairers', 'Media Programming Directors', 'Talent Directors', 'Media Technical Directors/Managers', 'Radio, Cellular, and Tower Equipment Installers and Repairers', 'Web and Digital Interface Designers', 'Computer Network Support Specialists', 'Audio and Video Technicians', 'Software Developers', 'Software Quality Assurance Analysts and Testers', 'Computer Network Architects', 'Telecommunications Engineering Specialists', 'Web Developers', 'Advertising and Promotions Managers', 'Database Architects', 'Data Warehousing Specialists', 'Information Security Analysts', 'Proofreaders and Copy Markers', 'Computer and Information Systems Managers', 'Sales Engineers', 'Database Administrators', 'Computer User Support Specialists', 'Marketing Managers', 'Data Scientists', 'Business Intelligence Analysts', 'Computer and Information Research Scientists', 'Market Research Analysts and Marketing Specialists', 'Search Marketing Strategists', 'Sales Representatives, Wholesale and Manufacturing, Technical and Scientific Products', 'Network and Computer Systems Administrators', 'Library Assistants, Clerical', 'Computer Programmers', 'Technical Writers', 'Computer Hardware Engineers', 'Archivists'], 38: ['Telecommunications Equipment Installers and Repairers, Except Line Installers', 'Advertising Sales Agents', 'Sales Representatives of Services, Except Advertising, Insurance, Financial Services, and Travel', 'Office Machine Operators, Except Computer'], 39: ['Broadcast Technicians', 'Telecommunications Line Installers and Repairers', 'Media Programming Directors', 'Talent Directors', 'Media Technical Directors/Managers', 'Web and Digital Interface Designers', 'Computer Network Support Specialists', 'Audio and Video Technicians', 'Software Developers', 'Software Quality Assurance Analysts and Testers', 'Computer Network Architects', 'Telecommunications Engineering Specialists', 'Web Developers', 'Advertising and Promotions Managers', 'Database Architects', 'Data Warehousing Specialists', 'Information Security Analysts', 'Computer and Information Systems Managers', 'Sales Engineers', 'Database Administrators', 'Computer User Support Specialists', 'Marketing Managers', 'Data Scientists', 'Business Intelligence Analysts', 'Computer and Information Research Scientists', 'Market Research Analysts and Marketing Specialists', 'Search Marketing Strategists', 'Sales Representatives, Wholesale and Manufacturing, Technical and Scientific Products', 'Network and Computer Systems Administrators', 'Computer Programmers', 'Technical Writers', 'Computer Hardware Engineers', 'Archivists'], 40: ['Special Effects Artists and Animators', 'Software Quality Assurance Analysts and Testers', 'Database Architects', 'Data Warehousing Specialists', 'Proofreaders and Copy Markers', 'Writers and Authors', 'Graphic Designers', 'Technical Writers'], 41: ['Broadcast Technicians', 'Telecommunications Equipment Installers and Repairers, Except Line Installers', 'Telecommunications Line Installers and Repairers', 'Radio, Cellular, and Tower Equipment Installers and Repairers', 'Radio Frequency Identification Device Specialists', 'Telecommunications Engineering Specialists', 'Telephone Operators'], 42: ['Broadcast Technicians', 'Telecommunications Line Installers and Repairers', 'Media Programming Directors', 'Media Technical Directors/Managers', 'Editors', 'Desktop Publishers', 'Web and Digital Interface Designers', 'Computer Network Support Specialists', 'Audio and Video Technicians', 'Software Developers', 'Software Quality Assurance Analysts and Testers', 'Computer Network Architects', 'Telecommunications Engineering Specialists', 'Web Developers', 'Advertising and Promotions Managers', 'Database Architects', 'Data Warehousing Specialists', 'Information Security Analysts', 'Computer and Information Systems Managers', 'Sales Engineers', 'Database Administrators', 'Computer User Support Specialists', 'Marketing Managers', 'Data Scientists', 'Business Intelligence Analysts', 'Computer and Information Research Scientists', 'Search Marketing Strategists', 'Sales Representatives, Wholesale and Manufacturing, Technical and Scientific Products', 'Graphic Designers', 'Network and Computer Systems Administrators', 'Library Assistants, Clerical', 'Computer Programmers', 'Technical Writers', 'Computer Hardware Engineers', 'Archivists'], 43: ['Producers and Directors', 'Media Programming Directors', 'Talent Directors', 'Media Technical Directors/Managers', 'Advertising Sales Agents', 'Software Quality Assurance Analysts and Testers', 'Advertising and Promotions Managers', 'Data Warehousing Specialists', 'Information Security Analysts', 'Computer and Information Systems Managers', 'Sales Engineers', 'Database Administrators', 'Marketing Managers', 'Business Intelligence Analysts', 'Market Research Analysts and Marketing Specialists', 'Search Marketing Strategists', 'Sales Representatives, Wholesale and Manufacturing, Technical and Scientific Products', 'Solar Sales Representatives and Assessors', 'Library Assistants, Clerical', 'Technical Writers', 'Set and Exhibit Designers', 'Archivists'], 44: ['Media Programming Directors', 'Desktop Publishers', 'Web and Digital Interface Designers', 'Computer Network Support Specialists', 'Software Developers', 'Software Quality Assurance Analysts and Testers', 'Computer Network Architects', 'Web Developers', 'Database Architects', 'Data Warehousing Specialists', 'Information Security Analysts', 'Computer and Information Systems Managers', 'Sales Engineers', 'Database Administrators', 'Computer User Support Specialists', 'Data Scientists', 'Business Intelligence Analysts', 'Computer and Information Research Scientists', 'Search Marketing Strategists', 'Network and Computer Systems Administrators', 'Library Assistants, Clerical', 'Computer Programmers', 'Computer Hardware Engineers', 'Archivists'], 45: ['Telecommunications Equipment Installers and Repairers, Except Line Installers', 'Desktop Publishers', 'Computer Network Support Specialists', 'Electronics Engineers, Except Computer', 'Computer Network Architects', 'Sales Representatives of Services, Except Advertising, Insurance, Financial Services, and Travel', 'Office Machine Operators, Except Computer', 'Computer User Support Specialists', 'Library Assistants, Clerical', 'Computer Programmers', 'Computer Hardware Engineers'], 46: ['Telecommunications Line Installers and Repairers', 'Media Programming Directors', 'Media Technical Directors/Managers', 'Desktop Publishers', 'Web and Digital Interface Designers', 'Computer Network Support Specialists', 'Audio and Video Technicians', 'Software Developers', 'Software Quality Assurance Analysts and Testers', 'Computer Network Architects', 'Telecommunications Engineering Specialists', 'Web Developers', 'Database Architects', 'Data Warehousing Specialists', 'Information Security Analysts', 'Computer and Information Systems Managers', 'Database Administrators', 'Office Machine Operators, Except Computer', 'Computer User Support Specialists', 'Data Scientists', 'Business Intelligence Analysts', 'Computer and Information Research Scientists', 'Network and Computer Systems Administrators', 'Library Assistants, Clerical', 'Computer Programmers', 'Technical Writers', 'Computer Hardware Engineers', 'Archivists'], 47: ['Producers and Directors', 'Media Programming Directors', 'Talent Directors', 'Media Technical Directors/Managers', 'Advertising Sales Agents', 'Editors', 'Advertising and Promotions Managers', 'Data Warehousing Specialists', 'Information Security Analysts', 'Computer and Information Systems Managers', 'Sales Engineers', 'Marketing Managers', 'Business Intelligence Analysts', 'Market Research Analysts and Marketing Specialists', 'Search Marketing Strategists', 'Sales Representatives, Wholesale and Manufacturing, Technical and Scientific Products', 'Set and Exhibit Designers'], 48: ['Editors', 'Actors', 'Proofreaders and Copy Markers', 'Writers and Authors', 'Poets, Lyricists and Creative Writers', 'Graphic Designers', 'Technical Writers'], 49: ['Writers and Authors', 'Poets, Lyricists and Creative Writers'], 50: ['Broadcast Technicians', 'Media Programming Directors', 'Talent Directors', 'Media Technical Directors/Managers', 'Web and Digital Interface Designers', 'Computer Network Support Specialists', 'Audio and Video Technicians', 'Software Developers', 'Software Quality Assurance Analysts and Testers', 'Computer Network Architects', 'Telecommunications Engineering Specialists', 'Web Developers', 'Database Architects', 'Data Warehousing Specialists', 'Information Security Analysts', 'Computer and Information Systems Managers', 'Database Administrators', 'Computer User Support Specialists', 'Data Scientists', 'Business Intelligence Analysts', 'Computer and Information Research Scientists', 'Network and Computer Systems Administrators', 'Computer Programmers', 'Technical Writers', 'Computer Hardware Engineers', 'Archivists'], 51: ['Media Programming Directors', 'Media Technical Directors/Managers', 'Advertising Sales Agents', 'Computer Network Support Specialists', 'Software Quality Assurance Analysts and Testers', 'Advertising and Promotions Managers', 'Database Architects', 'Data Warehousing Specialists', 'Information Security Analysts', 'Computer and Information Systems Managers', 'Sales Engineers', 'Database Administrators', 'Computer User Support Specialists', 'Marketing Managers', 'Data Scientists', 'Business Intelligence Analysts', 'Computer and Information Research Scientists', 'Market Research Analysts and Marketing Specialists', 'Search Marketing Strategists', 'Sales Representatives, Wholesale and Manufacturing, Technical and Scientific Products', 'Network and Computer Systems Administrators'], 52: ['Clinical Data Managers'], 53: ['Media Programming Directors', 'Desktop Publishers', 'Web and Digital Interface Designers', 'Computer Network Support Specialists', 'Audio and Video Technicians', 'Software Developers', 'Software Quality Assurance Analysts and Testers', 'Computer Network Architects', 'Telecommunications Engineering Specialists', 'Web Developers', 'Database Architects', 'Data Warehousing Specialists', 'Information Security Analysts', 'Computer and Information Systems Managers', 'Database Administrators', 'Computer User Support Specialists', 'Data Scientists', 'Business Intelligence Analysts', 'Computer and Information Research Scientists', 'Sales Representatives, Wholesale and Manufacturing, Technical and Scientific Products', 'Network and Computer Systems Administrators', 'Library Assistants, Clerical', 'Computer Programmers', 'Technical Writers', 'Computer Hardware Engineers', 'Archivists'], 54: ['Media Programming Directors', 'Talent Directors', 'Advertising Sales Agents', 'Advertising and Promotions Managers', 'Data Warehousing Specialists', 'Information Security Analysts', 'Sales Engineers', 'Marketing Managers', 'Business Intelligence Analysts', 'Market Research Analysts and Marketing Specialists', 'Search Marketing Strategists', 'Sales Representatives, Wholesale and Manufacturing, Technical and Scientific Products'], 55: ['Media Programming Directors', 'Talent Directors', 'Media Technical Directors/Managers', 'Advertising Sales Agents', 'Web and Digital Interface Designers', 'Web Developers', 'Advertising and Promotions Managers', 'Database Architects', 'Data Warehousing Specialists', 'Information Security Analysts', 'Computer and Information Systems Managers', 'Sales Engineers', 'Database Administrators', 'Marketing Managers', 'Business Intelligence Analysts', 'Market Research Analysts and Marketing Specialists', 'Search Marketing Strategists', 'Sales Representatives, Wholesale and Manufacturing, Technical and Scientific Products', 'Network and Computer Systems Administrators'], 56: ['Telecommunications Line Installers and Repairers', 'Media Programming Directors', 'Media Technical Directors/Managers', 'Advertising Sales Agents', 'Radio, Cellular, and Tower Equipment Installers and Repairers', 'Computer Network Support Specialists', 'Software Quality Assurance Analysts and Testers', 'Advertising and Promotions Managers', 'Data Warehousing Specialists', 'Information Security Analysts', 'Computer and Information Systems Managers', 'Sales Engineers', 'Marketing Managers', 'Business Intelligence Analysts', 'Computer and Information Research Scientists', 'Market Research Analysts and Marketing Specialists', 'Search Marketing Strategists', 'Sales Representatives, Wholesale and Manufacturing, Technical and Scientific Products', 'Solar Sales Representatives and Assessors', 'Network and Computer Systems Administrators', 'Library Assistants, Clerical', 'Technical Writers', 'Set and Exhibit Designers', 'Archivists'], 57: ['Sales Engineers', 'Sales Representatives, Wholesale and Manufacturing, Technical and Scientific Products', 'Solar Sales Representatives and Assessors'], 58: ['Media Programming Directors', 'Media Technical Directors/Managers', 'Editors', 'Costume Attendants', 'Web and Digital Interface Designers', 'Special Effects Artists and Animators', 'Software Developers', 'Computer Network Architects', 'Web Developers', 'Proofreaders and Copy Markers', 'Computer and Information Systems Managers', 'Writers and Authors', 'Graphic Designers', 'Network and Computer Systems Administrators', 'Technical Writers', 'Set and Exhibit Designers'], 59: ['Broadcast Technicians', 'Telecommunications Line Installers and Repairers', 'Media Programming Directors', 'Media Technical Directors/Managers', 'Desktop Publishers', 'Web and Digital Interface Designers', 'Computer Network Support Specialists', 'Audio and Video Technicians', 'Software Developers', 'Software Quality Assurance Analysts and Testers', 'Computer Network Architects', 'Telecommunications Engineering Specialists', 'Web Developers', 'Database Architects', 'Data Warehousing Specialists', 'Information Security Analysts', 'Computer and Information Systems Managers', 'Database Administrators', 'Computer User Support Specialists', 'Data Scientists', 'Business Intelligence Analysts', 'Computer and Information Research Scientists', 'Search Marketing Strategists', 'Sales Representatives, Wholesale and Manufacturing, Technical and Scientific Products', 'Graphic Designers', 'Network and Computer Systems Administrators', 'Library Assistants, Clerical', 'Computer Programmers', 'Technical Writers', 'Computer Hardware Engineers', 'Archivists'], 60: ['Ushers, Lobby Attendants, and Ticket Takers', 'Desktop Publishers', 'Computer Network Support Specialists', 'Computer Network Architects', 'Database Architects', 'Data Warehousing Specialists', 'Computer and Information Systems Managers', 'Sales Engineers', 'Database Administrators', 'Office Machine Operators, Except Computer', 'Computer User Support Specialists', 'Computer and Information Research Scientists', 'Sales Representatives, Wholesale and Manufacturing, Technical and Scientific Products', 'Network and Computer Systems Administrators', 'Library Assistants, Clerical', 'Computer Programmers', 'Computer Hardware Engineers', 'Archivists'], 61: ['Desktop Publishers', 'Web and Digital Interface Designers', 'Video Game Designers', 'Computer Network Support Specialists', 'Software Developers', 'Software Quality Assurance Analysts and Testers', 'Electronics Engineers, Except Computer', 'Computer Network Architects', 'Web Developers', 'Database Architects', 'Data Warehousing Specialists', 'Information Security Analysts', 'Computer and Information Systems Managers', 'Database Administrators', 'Office Machine Operators, Except Computer', 'Computer User Support Specialists', 'Data Scientists', 'Computer and Information Research Scientists', 'Network and Computer Systems Administrators', 'Library Assistants, Clerical', 'Computer Programmers', 'Technical Writers', 'Computer Hardware Engineers'], 62: ['Broadcast Technicians', 'Telecommunications Line Installers and Repairers', 'Producers and Directors', 'Media Programming Directors', 'Talent Directors', 'Media Technical Directors/Managers', 'Editors', 'Sound Engineering Technicians', 'Costume Attendants', 'Media and Communication Equipment Workers, All Other', 'Radio, Cellular, and Tower Equipment Installers and Repairers', 'Computer Network Support Specialists', 'Special Effects Artists and Animators', 'Software Developers', 'Software Quality Assurance Analysts and Testers', 'Radio Frequency Identification Device Specialists', 'Telecommunications Engineering Specialists', 'Database Architects', 'Data Warehousing Specialists', 'Information Security Analysts', 'Proofreaders and Copy Markers', 'Computer and Information Systems Managers', 'Sales Engineers', 'Computer User Support Specialists', 'Writers and Authors', 'Data Scientists', 'Computer and Information Research Scientists', 'Sales Representatives, Wholesale and Manufacturing, Technical and Scientific Products', 'Graphic Designers', 'Network and Computer Systems Administrators', 'Computer Programmers', 'Technical Writers', 'Computer Hardware Engineers', 'Set and Exhibit Designers', 'Archivists'], 63: ['Telecommunications Line Installers and Repairers', 'Desktop Publishers', 'Web and Digital Interface Designers', 'Video Game Designers', 'Computer Network Support Specialists', 'Audio and Video Technicians', 'Software Developers', 'Software Quality Assurance Analysts and Testers', 'Electronics Engineers, Except Computer', 'Computer Network Architects', 'Telecommunications Engineering Specialists', 'Database Architects', 'Data Warehousing Specialists', 'Information Security Analysts', 'Computer and Information Systems Managers', 'Database Administrators', 'Office Machine Operators, Except Computer', 'Computer User Support Specialists', 'Data Scientists', 'Computer and Information Research Scientists', 'Network and Computer Systems Administrators', 'Library Assistants, Clerical', 'Computer Programmers', 'Technical Writers', 'Computer Hardware Engineers', 'Archivists'], 64: ['Broadcast Technicians', 'Producers and Directors', 'Media Programming Directors', 'Talent Directors', 'Media Technical Directors/Managers', 'Costume Attendants', 'Web and Digital Interface Designers', 'Advertising and Promotions Managers', 'Sales Engineers', 'Marketing Managers', 'Sales Representatives, Wholesale and Manufacturing, Technical and Scientific Products', 'Graphic Designers', 'Technical Writers', 'Set and Exhibit Designers'], 65: ['Producers and Directors', 'Media Programming Directors', 'Talent Directors', 'Media Technical Directors/Managers', 'Editors', 'Costume Attendants', 'Computer Network Support Specialists', 'Software Developers', 'Software Quality Assurance Analysts and Testers', 'Advertising and Promotions Managers', 'Database Architects', 'Data Warehousing Specialists', 'Information Security Analysts', 'Computer and Information Systems Managers', 'Sales Engineers', 'Database Administrators', 'Computer User Support Specialists', 'Data Scientists', 'Computer and Information Research Scientists', 'Sales Representatives, Wholesale and Manufacturing, Technical and Scientific Products', 'Network and Computer Systems Administrators', 'Library Assistants, Clerical', 'Technical Writers', 'Computer Hardware Engineers', 'Archivists']}\n"
     ]
    }
   ],
   "source": [
    "temp_dict = {}\n",
    "for i in rows:\n",
    "    if i[0] not in temp_dict.keys():\n",
    "        temp_dict[i[0]] = []    \n",
    "    if i[0] == i[1]:\n",
    "        temp_dict[i[0]].append(sentences[i[0]])\n",
    "        continue\n",
    "    temp_dict[i[0]].append(sentences[i[1]])\n",
    "print(temp_dict)   "
   ]
  },
  {
   "cell_type": "code",
   "execution_count": 30,
   "id": "e51f325b",
   "metadata": {},
   "outputs": [
    {
     "data": {
      "text/plain": [
       "dict_values([['Broadcast Announcers and Radio Disc Jockeys', 'Broadcast Technicians', 'Radio, Cellular, and Tower Equipment Installers and Repairers', 'Radio Frequency Identification Device Specialists'], ['Motion Picture Projectionists', 'Producers and Directors', 'Film and Video Editors', 'Camera Operators, Television, Video, and Film', 'Actors', 'Audio and Video Technicians'], ['News Analysts, Reporters, and Journalists', 'Broadcast Technicians', 'Media Technical Directors/Managers'], ['Broadcast Announcers and Radio Disc Jockeys', 'News Analysts, Reporters, and Journalists', 'Broadcast Technicians', 'Telecommunications Line Installers and Repairers', 'Producers and Directors', 'Media Programming Directors', 'Talent Directors', 'Media Technical Directors/Managers', 'Editors', 'Sound Engineering Technicians', 'Costume Attendants', 'Camera Operators, Television, Video, and Film', 'Media and Communication Equipment Workers, All Other', 'Actors', 'Media and Communication Workers, All Other', 'Radio, Cellular, and Tower Equipment Installers and Repairers', 'Computer Network Support Specialists', 'Audio and Video Technicians', 'Special Effects Artists and Animators', 'Radio Frequency Identification Device Specialists', 'Telecommunications Engineering Specialists', 'Advertising and Promotions Managers', 'Data Warehousing Specialists', 'Information Security Analysts', 'Telephone Operators', 'Computer and Information Systems Managers', 'Data Scientists', 'Network and Computer Systems Administrators', 'Technical Writers', 'Set and Exhibit Designers'], ['Telecommunications Equipment Installers and Repairers, Except Line Installers', 'Telecommunications Line Installers and Repairers', 'Radio, Cellular, and Tower Equipment Installers and Repairers', 'Electronics Engineers, Except Computer', 'Telecommunications Engineering Specialists', 'Sales Representatives of Services, Except Advertising, Insurance, Financial Services, and Travel', 'Telephone Operators', 'Office Machine Operators, Except Computer'], ['Broadcast Technicians', 'Telecommunications Equipment Installers and Repairers, Except Line Installers', 'Telecommunications Line Installers and Repairers', 'Media Programming Directors', 'Media Technical Directors/Managers', 'Sound Engineering Technicians', 'Radio, Cellular, and Tower Equipment Installers and Repairers', 'Computer Network Support Specialists', 'Audio and Video Technicians', 'Software Quality Assurance Analysts and Testers', 'Radio Frequency Identification Device Specialists', 'Computer Network Architects', 'Telecommunications Engineering Specialists', 'Data Warehousing Specialists', 'Information Security Analysts', 'Telephone Operators', 'Computer and Information Systems Managers', 'Computer User Support Specialists', 'Sales Representatives, Wholesale and Manufacturing, Technical and Scientific Products', 'Network and Computer Systems Administrators', 'Technical Writers', 'Computer Hardware Engineers'], ['Motion Picture Projectionists', 'Broadcast Technicians', 'Producers and Directors', 'Media Programming Directors', 'Talent Directors', 'Media Technical Directors/Managers', 'Editors', 'Film and Video Editors', 'Sound Engineering Technicians', 'Costume Attendants', 'Camera Operators, Television, Video, and Film', 'Actors', 'Audio and Video Technicians', 'Special Effects Artists and Animators', 'Advertising and Promotions Managers', 'Sales Engineers', 'Marketing Managers', 'Technical Writers', 'Set and Exhibit Designers', 'Archivists'], ['Broadcast Technicians', 'Telecommunications Line Installers and Repairers', 'Producers and Directors', 'Media Programming Directors', 'Talent Directors', 'Media Technical Directors/Managers', 'Advertising Sales Agents', 'Editors', 'Film and Video Editors', 'Costume Attendants', 'Media and Communication Equipment Workers, All Other', 'Actors', 'Media and Communication Workers, All Other', 'Web and Digital Interface Designers', 'Computer Network Support Specialists', 'Audio and Video Technicians', 'Software Developers', 'Computer Network Architects', 'Telecommunications Engineering Specialists', 'Web Developers', 'Advertising and Promotions Managers', 'Database Architects', 'Data Warehousing Specialists', 'Information Security Analysts', 'Computer and Information Systems Managers', 'Sales Engineers', 'Database Administrators', 'Computer User Support Specialists', 'Marketing Managers', 'Data Scientists', 'Business Intelligence Analysts', 'Computer and Information Research Scientists', 'Market Research Analysts and Marketing Specialists', 'Search Marketing Strategists', 'Sales Representatives, Wholesale and Manufacturing, Technical and Scientific Products', 'Graphic Designers', 'Network and Computer Systems Administrators', 'Technical Writers', 'Set and Exhibit Designers', 'Archivists'], ['Broadcast Technicians', 'Producers and Directors', 'Media Programming Directors', 'Talent Directors', 'Media Technical Directors/Managers', 'Advertising Sales Agents', 'Editors', 'Costume Attendants', 'Actors', 'Audio and Video Technicians', 'Software Developers', 'Advertising and Promotions Managers', 'Data Warehousing Specialists', 'Information Security Analysts', 'Sales Engineers', 'Marketing Managers', 'Data Scientists', 'Market Research Analysts and Marketing Specialists', 'Search Marketing Strategists', 'Technical Writers', 'Set and Exhibit Designers', 'Archivists'], ['News Analysts, Reporters, and Journalists', 'Broadcast Technicians', 'Telecommunications Line Installers and Repairers', 'Producers and Directors', 'Media Programming Directors', 'Talent Directors', 'Media Technical Directors/Managers', 'Advertising Sales Agents', 'Editors', 'Costume Attendants', 'Media and Communication Equipment Workers, All Other', 'Media and Communication Workers, All Other', 'Radio, Cellular, and Tower Equipment Installers and Repairers', 'Computer Network Support Specialists', 'Audio and Video Technicians', 'Telecommunications Engineering Specialists', 'Advertising and Promotions Managers', 'Database Architects', 'Data Warehousing Specialists', 'Information Security Analysts', 'Computer and Information Systems Managers', 'Sales Engineers', 'Computer User Support Specialists', 'Marketing Managers', 'Data Scientists', 'Business Intelligence Analysts', 'Search Marketing Strategists', 'Sales Representatives, Wholesale and Manufacturing, Technical and Scientific Products', 'Graphic Designers', 'Network and Computer Systems Administrators', 'Technical Writers', 'Set and Exhibit Designers', 'Archivists'], ['Media Programming Directors', 'Talent Directors', 'Media Technical Directors/Managers', 'Advertising Sales Agents', 'Advertising and Promotions Managers', 'Sales Representatives of Services, Except Advertising, Insurance, Financial Services, and Travel', 'Sales Engineers', 'Marketing Managers', 'Business Intelligence Analysts', 'Market Research Analysts and Marketing Specialists', 'Search Marketing Strategists', 'Sales Representatives, Wholesale and Manufacturing, Technical and Scientific Products'], ['Broadcast Technicians', 'Producers and Directors', 'Media Programming Directors', 'Talent Directors', 'Media Technical Directors/Managers', 'Editors', 'Film and Video Editors', 'Costume Attendants', 'Actors', 'Advertising and Promotions Managers', 'Database Architects', 'Computer and Information Systems Managers', 'Marketing Managers', 'Writers and Authors', 'Graphic Designers', 'Technical Writers', 'Archivists'], ['Motion Picture Projectionists', 'Producers and Directors', 'Media Programming Directors', 'Editors', 'Film and Video Editors', 'Camera Operators, Television, Video, and Film', 'Video Game Designers', 'Audio and Video Technicians'], ['Broadcast Technicians', 'Telecommunications Line Installers and Repairers', 'Producers and Directors', 'Sound Engineering Technicians', 'Radio, Cellular, and Tower Equipment Installers and Repairers', 'Audio and Video Technicians', 'Special Effects Artists and Animators', 'Software Quality Assurance Analysts and Testers', 'Radio Frequency Identification Device Specialists', 'Telecommunications Engineering Specialists', 'Technical Writers'], ['Ushers, Lobby Attendants, and Ticket Takers', 'Library Assistants, Clerical'], ['Broadcast Technicians', 'Producers and Directors', 'Media Programming Directors', 'Talent Directors', 'Media Technical Directors/Managers', 'Editors', 'Costume Attendants', 'Actors', 'Advertising and Promotions Managers', 'Graphic Designers', 'Technical Writers', 'Set and Exhibit Designers', 'Archivists'], ['Motion Picture Projectionists', 'Broadcast Technicians', 'Producers and Directors', 'Film and Video Editors', 'Camera Operators, Television, Video, and Film', 'Audio and Video Technicians'], ['Broadcast Technicians', 'Media Programming Directors', 'Media Technical Directors/Managers', 'Media and Communication Equipment Workers, All Other', 'Media and Communication Workers, All Other', 'Radio, Cellular, and Tower Equipment Installers and Repairers', 'Technical Writers'], ['Desktop Publishers', 'Web and Digital Interface Designers', 'Computer Network Support Specialists', 'Computer Network Architects', 'Web Developers', 'Database Architects', 'Computer and Information Systems Managers', 'Database Administrators', 'Office Machine Operators, Except Computer', 'Computer User Support Specialists', 'Computer and Information Research Scientists', 'Network and Computer Systems Administrators', 'Library Assistants, Clerical', 'Computer Programmers', 'Computer Hardware Engineers'], ['Motion Picture Projectionists', 'Broadcast Technicians', 'Producers and Directors', 'Media Programming Directors', 'Talent Directors', 'Editors', 'Costume Attendants', 'Actors', 'Writers and Authors'], ['Broadcast Technicians', 'Media Programming Directors', 'Media Technical Directors/Managers', 'Media and Communication Equipment Workers, All Other', 'Media and Communication Workers, All Other'], ['Broadcast Announcers and Radio Disc Jockeys', 'Broadcast Technicians', 'Telecommunications Equipment Installers and Repairers, Except Line Installers', 'Telecommunications Line Installers and Repairers', 'Media Technical Directors/Managers', 'Sound Engineering Technicians', 'Media and Communication Equipment Workers, All Other', 'Radio, Cellular, and Tower Equipment Installers and Repairers', 'Computer Network Support Specialists', 'Audio and Video Technicians', 'Radio Frequency Identification Device Specialists', 'Telecommunications Engineering Specialists', 'Data Warehousing Specialists', 'Telephone Operators', 'Sales Representatives, Wholesale and Manufacturing, Technical and Scientific Products', 'Technical Writers'], ['Media Programming Directors', 'Desktop Publishers', 'Web and Digital Interface Designers', 'Computer Network Support Specialists', 'Software Developers', 'Software Quality Assurance Analysts and Testers', 'Computer Network Architects', 'Web Developers', 'Database Architects', 'Data Warehousing Specialists', 'Information Security Analysts', 'Computer and Information Systems Managers', 'Database Administrators', 'Computer User Support Specialists', 'Data Scientists', 'Computer and Information Research Scientists', 'Search Marketing Strategists', 'Graphic Designers', 'Network and Computer Systems Administrators', 'Computer Programmers', 'Computer Hardware Engineers', 'Set and Exhibit Designers'], ['Film and Video Editors', 'Video Game Designers', 'Software Developers', 'Computer Network Architects', 'Computer Programmers', 'Computer Hardware Engineers'], ['Broadcast Technicians', 'Telecommunications Line Installers and Repairers', 'Media Programming Directors', 'Media Technical Directors/Managers', 'Desktop Publishers', 'Radio, Cellular, and Tower Equipment Installers and Repairers', 'Web and Digital Interface Designers', 'Computer Network Support Specialists', 'Audio and Video Technicians', 'Software Developers', 'Software Quality Assurance Analysts and Testers', 'Computer Network Architects', 'Telecommunications Engineering Specialists', 'Web Developers', 'Database Architects', 'Data Warehousing Specialists', 'Information Security Analysts', 'Computer and Information Systems Managers', 'Database Administrators', 'Office Machine Operators, Except Computer', 'Computer User Support Specialists', 'Data Scientists', 'Business Intelligence Analysts', 'Computer and Information Research Scientists', 'Sales Representatives, Wholesale and Manufacturing, Technical and Scientific Products', 'Network and Computer Systems Administrators', 'Library Assistants, Clerical', 'Computer Programmers', 'Technical Writers', 'Computer Hardware Engineers', 'Archivists'], ['Motion Picture Projectionists', 'Broadcast Technicians', 'Telecommunications Line Installers and Repairers', 'Producers and Directors', 'Media Programming Directors', 'Talent Directors', 'Media Technical Directors/Managers', 'Film and Video Editors', 'Sound Engineering Technicians', 'Camera Operators, Television, Video, and Film', 'Radio, Cellular, and Tower Equipment Installers and Repairers', 'Computer Network Support Specialists', 'Audio and Video Technicians', 'Special Effects Artists and Animators', 'Software Developers', 'Software Quality Assurance Analysts and Testers', 'Radio Frequency Identification Device Specialists', 'Telecommunications Engineering Specialists', 'Data Warehousing Specialists', 'Information Security Analysts', 'Computer and Information Systems Managers', 'Computer User Support Specialists', 'Data Scientists', 'Computer and Information Research Scientists', 'Network and Computer Systems Administrators', 'Computer Hardware Engineers'], ['Broadcast Technicians', 'Producers and Directors', 'Sound Engineering Technicians', 'Audio and Video Technicians', 'Special Effects Artists and Animators', 'Software Quality Assurance Analysts and Testers', 'Proofreaders and Copy Markers', 'Graphic Designers', 'Technical Writers'], ['Media Programming Directors', 'Talent Directors', 'Web and Digital Interface Designers', 'Video Game Designers', 'Computer Network Support Specialists', 'Audio and Video Technicians', 'Software Developers', 'Software Quality Assurance Analysts and Testers', 'Computer Network Architects', 'Telecommunications Engineering Specialists', 'Web Developers', 'Database Architects', 'Data Warehousing Specialists', 'Information Security Analysts', 'Computer and Information Systems Managers', 'Database Administrators', 'Computer User Support Specialists', 'Data Scientists', 'Computer and Information Research Scientists', 'Graphic Designers', 'Network and Computer Systems Administrators', 'Computer Programmers', 'Technical Writers', 'Computer Hardware Engineers', 'Archivists'], ['Telecommunications Line Installers and Repairers', 'Sound Engineering Technicians', 'Web and Digital Interface Designers', 'Computer Network Support Specialists', 'Audio and Video Technicians', 'Special Effects Artists and Animators', 'Software Developers', 'Software Quality Assurance Analysts and Testers', 'Computer Network Architects', 'Database Architects', 'Data Warehousing Specialists', 'Information Security Analysts', 'Proofreaders and Copy Markers', 'Computer and Information Systems Managers', 'Sales Engineers', 'Database Administrators', 'Computer User Support Specialists', 'Data Scientists', 'Business Intelligence Analysts', 'Computer and Information Research Scientists', 'Sales Representatives, Wholesale and Manufacturing, Technical and Scientific Products', 'Network and Computer Systems Administrators', 'Computer Programmers', 'Technical Writers', 'Computer Hardware Engineers', 'Archivists'], ['Telecommunications Equipment Installers and Repairers, Except Line Installers', 'Electronics Engineers, Except Computer', 'Computer Network Architects', 'Office Machine Operators, Except Computer', 'Computer Programmers', 'Computer Hardware Engineers'], ['Broadcast Announcers and Radio Disc Jockeys', 'Broadcast Technicians', 'Telecommunications Line Installers and Repairers', 'Sound Engineering Technicians', 'Radio, Cellular, and Tower Equipment Installers and Repairers', 'Audio and Video Technicians', 'Radio Frequency Identification Device Specialists', 'Telecommunications Engineering Specialists', 'Telephone Operators', 'Technical Writers'], ['Atmospheric and Space Scientists'], ['Telecommunications Line Installers and Repairers', 'Media Programming Directors', 'Desktop Publishers', 'Web and Digital Interface Designers', 'Video Game Designers', 'Computer Network Support Specialists', 'Software Developers', 'Software Quality Assurance Analysts and Testers', 'Electronics Engineers, Except Computer', 'Computer Network Architects', 'Telecommunications Engineering Specialists', 'Web Developers', 'Database Architects', 'Data Warehousing Specialists', 'Information Security Analysts', 'Computer and Information Systems Managers', 'Database Administrators', 'Office Machine Operators, Except Computer', 'Computer User Support Specialists', 'Data Scientists', 'Computer and Information Research Scientists', 'Graphic Designers', 'Network and Computer Systems Administrators', 'Library Assistants, Clerical', 'Computer Programmers', 'Computer Hardware Engineers'], ['Broadcast Technicians', 'Telecommunications Equipment Installers and Repairers, Except Line Installers', 'Telecommunications Line Installers and Repairers', 'Media Programming Directors', 'Media Technical Directors/Managers', 'Sound Engineering Technicians', 'Radio, Cellular, and Tower Equipment Installers and Repairers', 'Computer Network Support Specialists', 'Audio and Video Technicians', 'Software Developers', 'Radio Frequency Identification Device Specialists', 'Computer Network Architects', 'Telecommunications Engineering Specialists', 'Data Warehousing Specialists', 'Information Security Analysts', 'Telephone Operators', 'Computer and Information Systems Managers', 'Computer User Support Specialists', 'Data Scientists', 'Computer and Information Research Scientists', 'Network and Computer Systems Administrators', 'Technical Writers', 'Computer Hardware Engineers'], ['Media Programming Directors', 'Desktop Publishers', 'Web and Digital Interface Designers', 'Computer Network Support Specialists', 'Software Developers', 'Computer Network Architects', 'Web Developers', 'Database Architects', 'Data Warehousing Specialists', 'Information Security Analysts', 'Computer and Information Systems Managers', 'Database Administrators', 'Computer User Support Specialists', 'Data Scientists', 'Computer and Information Research Scientists', 'Search Marketing Strategists', 'Graphic Designers', 'Network and Computer Systems Administrators', 'Computer Programmers'], ['Broadcast Technicians', 'Producers and Directors', 'Media Programming Directors', 'Talent Directors', 'Media Technical Directors/Managers', 'Advertising Sales Agents', 'Editors', 'Costume Attendants', 'Advertising and Promotions Managers', 'Data Warehousing Specialists', 'Information Security Analysts', 'Computer and Information Systems Managers', 'Sales Engineers', 'Marketing Managers', 'Business Intelligence Analysts', 'Market Research Analysts and Marketing Specialists', 'Search Marketing Strategists', 'Sales Representatives, Wholesale and Manufacturing, Technical and Scientific Products', 'Set and Exhibit Designers', 'Archivists'], ['Media Programming Directors', 'Media Technical Directors/Managers', 'Editors', 'Desktop Publishers', 'Web and Digital Interface Designers', 'Computer Network Support Specialists', 'Software Developers', 'Software Quality Assurance Analysts and Testers', 'Computer Network Architects', 'Web Developers', 'Database Architects', 'Data Warehousing Specialists', 'Information Security Analysts', 'Proofreaders and Copy Markers', 'Computer and Information Systems Managers', 'Database Administrators', 'Computer User Support Specialists', 'Data Scientists', 'Business Intelligence Analysts', 'Computer and Information Research Scientists', 'Search Marketing Strategists', 'Network and Computer Systems Administrators', 'Library Assistants, Clerical', 'Computer Programmers', 'Technical Writers', 'Computer Hardware Engineers', 'Archivists'], ['Broadcast Technicians', 'Telecommunications Line Installers and Repairers', 'Media Programming Directors', 'Talent Directors', 'Media Technical Directors/Managers', 'Radio, Cellular, and Tower Equipment Installers and Repairers', 'Web and Digital Interface Designers', 'Computer Network Support Specialists', 'Audio and Video Technicians', 'Software Developers', 'Software Quality Assurance Analysts and Testers', 'Computer Network Architects', 'Telecommunications Engineering Specialists', 'Web Developers', 'Advertising and Promotions Managers', 'Database Architects', 'Data Warehousing Specialists', 'Information Security Analysts', 'Proofreaders and Copy Markers', 'Computer and Information Systems Managers', 'Sales Engineers', 'Database Administrators', 'Computer User Support Specialists', 'Marketing Managers', 'Data Scientists', 'Business Intelligence Analysts', 'Computer and Information Research Scientists', 'Market Research Analysts and Marketing Specialists', 'Search Marketing Strategists', 'Sales Representatives, Wholesale and Manufacturing, Technical and Scientific Products', 'Network and Computer Systems Administrators', 'Library Assistants, Clerical', 'Computer Programmers', 'Technical Writers', 'Computer Hardware Engineers', 'Archivists'], ['Telecommunications Equipment Installers and Repairers, Except Line Installers', 'Advertising Sales Agents', 'Sales Representatives of Services, Except Advertising, Insurance, Financial Services, and Travel', 'Office Machine Operators, Except Computer'], ['Broadcast Technicians', 'Telecommunications Line Installers and Repairers', 'Media Programming Directors', 'Talent Directors', 'Media Technical Directors/Managers', 'Web and Digital Interface Designers', 'Computer Network Support Specialists', 'Audio and Video Technicians', 'Software Developers', 'Software Quality Assurance Analysts and Testers', 'Computer Network Architects', 'Telecommunications Engineering Specialists', 'Web Developers', 'Advertising and Promotions Managers', 'Database Architects', 'Data Warehousing Specialists', 'Information Security Analysts', 'Computer and Information Systems Managers', 'Sales Engineers', 'Database Administrators', 'Computer User Support Specialists', 'Marketing Managers', 'Data Scientists', 'Business Intelligence Analysts', 'Computer and Information Research Scientists', 'Market Research Analysts and Marketing Specialists', 'Search Marketing Strategists', 'Sales Representatives, Wholesale and Manufacturing, Technical and Scientific Products', 'Network and Computer Systems Administrators', 'Computer Programmers', 'Technical Writers', 'Computer Hardware Engineers', 'Archivists'], ['Special Effects Artists and Animators', 'Software Quality Assurance Analysts and Testers', 'Database Architects', 'Data Warehousing Specialists', 'Proofreaders and Copy Markers', 'Writers and Authors', 'Graphic Designers', 'Technical Writers'], ['Broadcast Technicians', 'Telecommunications Equipment Installers and Repairers, Except Line Installers', 'Telecommunications Line Installers and Repairers', 'Radio, Cellular, and Tower Equipment Installers and Repairers', 'Radio Frequency Identification Device Specialists', 'Telecommunications Engineering Specialists', 'Telephone Operators'], ['Broadcast Technicians', 'Telecommunications Line Installers and Repairers', 'Media Programming Directors', 'Media Technical Directors/Managers', 'Editors', 'Desktop Publishers', 'Web and Digital Interface Designers', 'Computer Network Support Specialists', 'Audio and Video Technicians', 'Software Developers', 'Software Quality Assurance Analysts and Testers', 'Computer Network Architects', 'Telecommunications Engineering Specialists', 'Web Developers', 'Advertising and Promotions Managers', 'Database Architects', 'Data Warehousing Specialists', 'Information Security Analysts', 'Computer and Information Systems Managers', 'Sales Engineers', 'Database Administrators', 'Computer User Support Specialists', 'Marketing Managers', 'Data Scientists', 'Business Intelligence Analysts', 'Computer and Information Research Scientists', 'Search Marketing Strategists', 'Sales Representatives, Wholesale and Manufacturing, Technical and Scientific Products', 'Graphic Designers', 'Network and Computer Systems Administrators', 'Library Assistants, Clerical', 'Computer Programmers', 'Technical Writers', 'Computer Hardware Engineers', 'Archivists'], ['Producers and Directors', 'Media Programming Directors', 'Talent Directors', 'Media Technical Directors/Managers', 'Advertising Sales Agents', 'Software Quality Assurance Analysts and Testers', 'Advertising and Promotions Managers', 'Data Warehousing Specialists', 'Information Security Analysts', 'Computer and Information Systems Managers', 'Sales Engineers', 'Database Administrators', 'Marketing Managers', 'Business Intelligence Analysts', 'Market Research Analysts and Marketing Specialists', 'Search Marketing Strategists', 'Sales Representatives, Wholesale and Manufacturing, Technical and Scientific Products', 'Solar Sales Representatives and Assessors', 'Library Assistants, Clerical', 'Technical Writers', 'Set and Exhibit Designers', 'Archivists'], ['Media Programming Directors', 'Desktop Publishers', 'Web and Digital Interface Designers', 'Computer Network Support Specialists', 'Software Developers', 'Software Quality Assurance Analysts and Testers', 'Computer Network Architects', 'Web Developers', 'Database Architects', 'Data Warehousing Specialists', 'Information Security Analysts', 'Computer and Information Systems Managers', 'Sales Engineers', 'Database Administrators', 'Computer User Support Specialists', 'Data Scientists', 'Business Intelligence Analysts', 'Computer and Information Research Scientists', 'Search Marketing Strategists', 'Network and Computer Systems Administrators', 'Library Assistants, Clerical', 'Computer Programmers', 'Computer Hardware Engineers', 'Archivists'], ['Telecommunications Equipment Installers and Repairers, Except Line Installers', 'Desktop Publishers', 'Computer Network Support Specialists', 'Electronics Engineers, Except Computer', 'Computer Network Architects', 'Sales Representatives of Services, Except Advertising, Insurance, Financial Services, and Travel', 'Office Machine Operators, Except Computer', 'Computer User Support Specialists', 'Library Assistants, Clerical', 'Computer Programmers', 'Computer Hardware Engineers'], ['Telecommunications Line Installers and Repairers', 'Media Programming Directors', 'Media Technical Directors/Managers', 'Desktop Publishers', 'Web and Digital Interface Designers', 'Computer Network Support Specialists', 'Audio and Video Technicians', 'Software Developers', 'Software Quality Assurance Analysts and Testers', 'Computer Network Architects', 'Telecommunications Engineering Specialists', 'Web Developers', 'Database Architects', 'Data Warehousing Specialists', 'Information Security Analysts', 'Computer and Information Systems Managers', 'Database Administrators', 'Office Machine Operators, Except Computer', 'Computer User Support Specialists', 'Data Scientists', 'Business Intelligence Analysts', 'Computer and Information Research Scientists', 'Network and Computer Systems Administrators', 'Library Assistants, Clerical', 'Computer Programmers', 'Technical Writers', 'Computer Hardware Engineers', 'Archivists'], ['Producers and Directors', 'Media Programming Directors', 'Talent Directors', 'Media Technical Directors/Managers', 'Advertising Sales Agents', 'Editors', 'Advertising and Promotions Managers', 'Data Warehousing Specialists', 'Information Security Analysts', 'Computer and Information Systems Managers', 'Sales Engineers', 'Marketing Managers', 'Business Intelligence Analysts', 'Market Research Analysts and Marketing Specialists', 'Search Marketing Strategists', 'Sales Representatives, Wholesale and Manufacturing, Technical and Scientific Products', 'Set and Exhibit Designers'], ['Editors', 'Actors', 'Proofreaders and Copy Markers', 'Writers and Authors', 'Poets, Lyricists and Creative Writers', 'Graphic Designers', 'Technical Writers'], ['Writers and Authors', 'Poets, Lyricists and Creative Writers'], ['Broadcast Technicians', 'Media Programming Directors', 'Talent Directors', 'Media Technical Directors/Managers', 'Web and Digital Interface Designers', 'Computer Network Support Specialists', 'Audio and Video Technicians', 'Software Developers', 'Software Quality Assurance Analysts and Testers', 'Computer Network Architects', 'Telecommunications Engineering Specialists', 'Web Developers', 'Database Architects', 'Data Warehousing Specialists', 'Information Security Analysts', 'Computer and Information Systems Managers', 'Database Administrators', 'Computer User Support Specialists', 'Data Scientists', 'Business Intelligence Analysts', 'Computer and Information Research Scientists', 'Network and Computer Systems Administrators', 'Computer Programmers', 'Technical Writers', 'Computer Hardware Engineers', 'Archivists'], ['Media Programming Directors', 'Media Technical Directors/Managers', 'Advertising Sales Agents', 'Computer Network Support Specialists', 'Software Quality Assurance Analysts and Testers', 'Advertising and Promotions Managers', 'Database Architects', 'Data Warehousing Specialists', 'Information Security Analysts', 'Computer and Information Systems Managers', 'Sales Engineers', 'Database Administrators', 'Computer User Support Specialists', 'Marketing Managers', 'Data Scientists', 'Business Intelligence Analysts', 'Computer and Information Research Scientists', 'Market Research Analysts and Marketing Specialists', 'Search Marketing Strategists', 'Sales Representatives, Wholesale and Manufacturing, Technical and Scientific Products', 'Network and Computer Systems Administrators'], ['Clinical Data Managers'], ['Media Programming Directors', 'Desktop Publishers', 'Web and Digital Interface Designers', 'Computer Network Support Specialists', 'Audio and Video Technicians', 'Software Developers', 'Software Quality Assurance Analysts and Testers', 'Computer Network Architects', 'Telecommunications Engineering Specialists', 'Web Developers', 'Database Architects', 'Data Warehousing Specialists', 'Information Security Analysts', 'Computer and Information Systems Managers', 'Database Administrators', 'Computer User Support Specialists', 'Data Scientists', 'Business Intelligence Analysts', 'Computer and Information Research Scientists', 'Sales Representatives, Wholesale and Manufacturing, Technical and Scientific Products', 'Network and Computer Systems Administrators', 'Library Assistants, Clerical', 'Computer Programmers', 'Technical Writers', 'Computer Hardware Engineers', 'Archivists'], ['Media Programming Directors', 'Talent Directors', 'Advertising Sales Agents', 'Advertising and Promotions Managers', 'Data Warehousing Specialists', 'Information Security Analysts', 'Sales Engineers', 'Marketing Managers', 'Business Intelligence Analysts', 'Market Research Analysts and Marketing Specialists', 'Search Marketing Strategists', 'Sales Representatives, Wholesale and Manufacturing, Technical and Scientific Products'], ['Media Programming Directors', 'Talent Directors', 'Media Technical Directors/Managers', 'Advertising Sales Agents', 'Web and Digital Interface Designers', 'Web Developers', 'Advertising and Promotions Managers', 'Database Architects', 'Data Warehousing Specialists', 'Information Security Analysts', 'Computer and Information Systems Managers', 'Sales Engineers', 'Database Administrators', 'Marketing Managers', 'Business Intelligence Analysts', 'Market Research Analysts and Marketing Specialists', 'Search Marketing Strategists', 'Sales Representatives, Wholesale and Manufacturing, Technical and Scientific Products', 'Network and Computer Systems Administrators'], ['Telecommunications Line Installers and Repairers', 'Media Programming Directors', 'Media Technical Directors/Managers', 'Advertising Sales Agents', 'Radio, Cellular, and Tower Equipment Installers and Repairers', 'Computer Network Support Specialists', 'Software Quality Assurance Analysts and Testers', 'Advertising and Promotions Managers', 'Data Warehousing Specialists', 'Information Security Analysts', 'Computer and Information Systems Managers', 'Sales Engineers', 'Marketing Managers', 'Business Intelligence Analysts', 'Computer and Information Research Scientists', 'Market Research Analysts and Marketing Specialists', 'Search Marketing Strategists', 'Sales Representatives, Wholesale and Manufacturing, Technical and Scientific Products', 'Solar Sales Representatives and Assessors', 'Network and Computer Systems Administrators', 'Library Assistants, Clerical', 'Technical Writers', 'Set and Exhibit Designers', 'Archivists'], ['Sales Engineers', 'Sales Representatives, Wholesale and Manufacturing, Technical and Scientific Products', 'Solar Sales Representatives and Assessors'], ['Media Programming Directors', 'Media Technical Directors/Managers', 'Editors', 'Costume Attendants', 'Web and Digital Interface Designers', 'Special Effects Artists and Animators', 'Software Developers', 'Computer Network Architects', 'Web Developers', 'Proofreaders and Copy Markers', 'Computer and Information Systems Managers', 'Writers and Authors', 'Graphic Designers', 'Network and Computer Systems Administrators', 'Technical Writers', 'Set and Exhibit Designers'], ['Broadcast Technicians', 'Telecommunications Line Installers and Repairers', 'Media Programming Directors', 'Media Technical Directors/Managers', 'Desktop Publishers', 'Web and Digital Interface Designers', 'Computer Network Support Specialists', 'Audio and Video Technicians', 'Software Developers', 'Software Quality Assurance Analysts and Testers', 'Computer Network Architects', 'Telecommunications Engineering Specialists', 'Web Developers', 'Database Architects', 'Data Warehousing Specialists', 'Information Security Analysts', 'Computer and Information Systems Managers', 'Database Administrators', 'Computer User Support Specialists', 'Data Scientists', 'Business Intelligence Analysts', 'Computer and Information Research Scientists', 'Search Marketing Strategists', 'Sales Representatives, Wholesale and Manufacturing, Technical and Scientific Products', 'Graphic Designers', 'Network and Computer Systems Administrators', 'Library Assistants, Clerical', 'Computer Programmers', 'Technical Writers', 'Computer Hardware Engineers', 'Archivists'], ['Ushers, Lobby Attendants, and Ticket Takers', 'Desktop Publishers', 'Computer Network Support Specialists', 'Computer Network Architects', 'Database Architects', 'Data Warehousing Specialists', 'Computer and Information Systems Managers', 'Sales Engineers', 'Database Administrators', 'Office Machine Operators, Except Computer', 'Computer User Support Specialists', 'Computer and Information Research Scientists', 'Sales Representatives, Wholesale and Manufacturing, Technical and Scientific Products', 'Network and Computer Systems Administrators', 'Library Assistants, Clerical', 'Computer Programmers', 'Computer Hardware Engineers', 'Archivists'], ['Desktop Publishers', 'Web and Digital Interface Designers', 'Video Game Designers', 'Computer Network Support Specialists', 'Software Developers', 'Software Quality Assurance Analysts and Testers', 'Electronics Engineers, Except Computer', 'Computer Network Architects', 'Web Developers', 'Database Architects', 'Data Warehousing Specialists', 'Information Security Analysts', 'Computer and Information Systems Managers', 'Database Administrators', 'Office Machine Operators, Except Computer', 'Computer User Support Specialists', 'Data Scientists', 'Computer and Information Research Scientists', 'Network and Computer Systems Administrators', 'Library Assistants, Clerical', 'Computer Programmers', 'Technical Writers', 'Computer Hardware Engineers'], ['Broadcast Technicians', 'Telecommunications Line Installers and Repairers', 'Producers and Directors', 'Media Programming Directors', 'Talent Directors', 'Media Technical Directors/Managers', 'Editors', 'Sound Engineering Technicians', 'Costume Attendants', 'Media and Communication Equipment Workers, All Other', 'Radio, Cellular, and Tower Equipment Installers and Repairers', 'Computer Network Support Specialists', 'Special Effects Artists and Animators', 'Software Developers', 'Software Quality Assurance Analysts and Testers', 'Radio Frequency Identification Device Specialists', 'Telecommunications Engineering Specialists', 'Database Architects', 'Data Warehousing Specialists', 'Information Security Analysts', 'Proofreaders and Copy Markers', 'Computer and Information Systems Managers', 'Sales Engineers', 'Computer User Support Specialists', 'Writers and Authors', 'Data Scientists', 'Computer and Information Research Scientists', 'Sales Representatives, Wholesale and Manufacturing, Technical and Scientific Products', 'Graphic Designers', 'Network and Computer Systems Administrators', 'Computer Programmers', 'Technical Writers', 'Computer Hardware Engineers', 'Set and Exhibit Designers', 'Archivists'], ['Telecommunications Line Installers and Repairers', 'Desktop Publishers', 'Web and Digital Interface Designers', 'Video Game Designers', 'Computer Network Support Specialists', 'Audio and Video Technicians', 'Software Developers', 'Software Quality Assurance Analysts and Testers', 'Electronics Engineers, Except Computer', 'Computer Network Architects', 'Telecommunications Engineering Specialists', 'Database Architects', 'Data Warehousing Specialists', 'Information Security Analysts', 'Computer and Information Systems Managers', 'Database Administrators', 'Office Machine Operators, Except Computer', 'Computer User Support Specialists', 'Data Scientists', 'Computer and Information Research Scientists', 'Network and Computer Systems Administrators', 'Library Assistants, Clerical', 'Computer Programmers', 'Technical Writers', 'Computer Hardware Engineers', 'Archivists'], ['Broadcast Technicians', 'Producers and Directors', 'Media Programming Directors', 'Talent Directors', 'Media Technical Directors/Managers', 'Costume Attendants', 'Web and Digital Interface Designers', 'Advertising and Promotions Managers', 'Sales Engineers', 'Marketing Managers', 'Sales Representatives, Wholesale and Manufacturing, Technical and Scientific Products', 'Graphic Designers', 'Technical Writers', 'Set and Exhibit Designers'], ['Producers and Directors', 'Media Programming Directors', 'Talent Directors', 'Media Technical Directors/Managers', 'Editors', 'Costume Attendants', 'Computer Network Support Specialists', 'Software Developers', 'Software Quality Assurance Analysts and Testers', 'Advertising and Promotions Managers', 'Database Architects', 'Data Warehousing Specialists', 'Information Security Analysts', 'Computer and Information Systems Managers', 'Sales Engineers', 'Database Administrators', 'Computer User Support Specialists', 'Data Scientists', 'Computer and Information Research Scientists', 'Sales Representatives, Wholesale and Manufacturing, Technical and Scientific Products', 'Network and Computer Systems Administrators', 'Library Assistants, Clerical', 'Technical Writers', 'Computer Hardware Engineers', 'Archivists']])"
      ]
     },
     "execution_count": 30,
     "metadata": {},
     "output_type": "execute_result"
    }
   ],
   "source": [
    "temp_dict.values()"
   ]
  },
  {
   "cell_type": "code",
   "execution_count": 32,
   "id": "b5c196d5",
   "metadata": {},
   "outputs": [],
   "source": [
    "df['Similar Text'] = temp_dict.values()"
   ]
  },
  {
   "cell_type": "code",
   "execution_count": 33,
   "id": "42b091ba",
   "metadata": {},
   "outputs": [
    {
     "data": {
      "text/html": [
       "<div>\n",
       "<style scoped>\n",
       "    .dataframe tbody tr th:only-of-type {\n",
       "        vertical-align: middle;\n",
       "    }\n",
       "\n",
       "    .dataframe tbody tr th {\n",
       "        vertical-align: top;\n",
       "    }\n",
       "\n",
       "    .dataframe thead th {\n",
       "        text-align: right;\n",
       "    }\n",
       "</style>\n",
       "<table border=\"1\" class=\"dataframe\">\n",
       "  <thead>\n",
       "    <tr style=\"text-align: right;\">\n",
       "      <th></th>\n",
       "      <th>Employed by this Industry</th>\n",
       "      <th>Code</th>\n",
       "      <th>Occupation</th>\n",
       "      <th>Projected Growth (2021-2031)</th>\n",
       "      <th>Projected Job Openings (2021-2031)</th>\n",
       "      <th>Similar Text</th>\n",
       "    </tr>\n",
       "  </thead>\n",
       "  <tbody>\n",
       "    <tr>\n",
       "      <th>0</th>\n",
       "      <td>89%</td>\n",
       "      <td>27-3011.00</td>\n",
       "      <td>Broadcast Announcers and Radio Disc Jockeys</td>\n",
       "      <td>Decline</td>\n",
       "      <td>2100</td>\n",
       "      <td>[Broadcast Announcers and Radio Disc Jockeys, ...</td>\n",
       "    </tr>\n",
       "    <tr>\n",
       "      <th>1</th>\n",
       "      <td>85%</td>\n",
       "      <td>39-3021.00</td>\n",
       "      <td>Motion Picture Projectionists</td>\n",
       "      <td>Much faster than average</td>\n",
       "      <td>700</td>\n",
       "      <td>[Motion Picture Projectionists, Producers and ...</td>\n",
       "    </tr>\n",
       "    <tr>\n",
       "      <th>2</th>\n",
       "      <td>80%</td>\n",
       "      <td>27-3023.00</td>\n",
       "      <td>News Analysts, Reporters, and Journalists</td>\n",
       "      <td>Decline</td>\n",
       "      <td>4900</td>\n",
       "      <td>[News Analysts, Reporters, and Journalists, Br...</td>\n",
       "    </tr>\n",
       "    <tr>\n",
       "      <th>3</th>\n",
       "      <td>73%</td>\n",
       "      <td>27-4012.00</td>\n",
       "      <td>Broadcast Technicians</td>\n",
       "      <td>Decline</td>\n",
       "      <td>2800</td>\n",
       "      <td>[Broadcast Announcers and Radio Disc Jockeys, ...</td>\n",
       "    </tr>\n",
       "    <tr>\n",
       "      <th>4</th>\n",
       "      <td>68%</td>\n",
       "      <td>49-2022.00</td>\n",
       "      <td>Telecommunications Equipment Installers and Re...</td>\n",
       "      <td>Faster than average</td>\n",
       "      <td>22500</td>\n",
       "      <td>[Telecommunications Equipment Installers and R...</td>\n",
       "    </tr>\n",
       "    <tr>\n",
       "      <th>...</th>\n",
       "      <td>...</td>\n",
       "      <td>...</td>\n",
       "      <td>...</td>\n",
       "      <td>...</td>\n",
       "      <td>...</td>\n",
       "      <td>...</td>\n",
       "    </tr>\n",
       "    <tr>\n",
       "      <th>61</th>\n",
       "      <td>10%</td>\n",
       "      <td>15-1251.00</td>\n",
       "      <td>Computer Programmers</td>\n",
       "      <td>Decline</td>\n",
       "      <td>9600</td>\n",
       "      <td>[Desktop Publishers, Web and Digital Interface...</td>\n",
       "    </tr>\n",
       "    <tr>\n",
       "      <th>62</th>\n",
       "      <td>10%</td>\n",
       "      <td>27-3042.00</td>\n",
       "      <td>Technical Writers</td>\n",
       "      <td>Average</td>\n",
       "      <td>5400</td>\n",
       "      <td>[Broadcast Technicians, Telecommunications Lin...</td>\n",
       "    </tr>\n",
       "    <tr>\n",
       "      <th>63</th>\n",
       "      <td>10%</td>\n",
       "      <td>17-2061.00</td>\n",
       "      <td>Computer Hardware Engineers</td>\n",
       "      <td>Average</td>\n",
       "      <td>5300</td>\n",
       "      <td>[Telecommunications Line Installers and Repair...</td>\n",
       "    </tr>\n",
       "    <tr>\n",
       "      <th>64</th>\n",
       "      <td>10%</td>\n",
       "      <td>27-1027.00</td>\n",
       "      <td>Set and Exhibit Designers</td>\n",
       "      <td>Average</td>\n",
       "      <td>2700</td>\n",
       "      <td>[Broadcast Technicians, Producers and Director...</td>\n",
       "    </tr>\n",
       "    <tr>\n",
       "      <th>65</th>\n",
       "      <td>10%</td>\n",
       "      <td>25-4011.00</td>\n",
       "      <td>Archivists</td>\n",
       "      <td>Faster than average</td>\n",
       "      <td>1100</td>\n",
       "      <td>[Producers and Directors, Media Programming Di...</td>\n",
       "    </tr>\n",
       "  </tbody>\n",
       "</table>\n",
       "<p>66 rows × 6 columns</p>\n",
       "</div>"
      ],
      "text/plain": [
       "   Employed by this Industry        Code  \\\n",
       "0                        89%  27-3011.00   \n",
       "1                        85%  39-3021.00   \n",
       "2                        80%  27-3023.00   \n",
       "3                        73%  27-4012.00   \n",
       "4                        68%  49-2022.00   \n",
       "..                       ...         ...   \n",
       "61                       10%  15-1251.00   \n",
       "62                       10%  27-3042.00   \n",
       "63                       10%  17-2061.00   \n",
       "64                       10%  27-1027.00   \n",
       "65                       10%  25-4011.00   \n",
       "\n",
       "                                           Occupation  \\\n",
       "0         Broadcast Announcers and Radio Disc Jockeys   \n",
       "1                       Motion Picture Projectionists   \n",
       "2           News Analysts, Reporters, and Journalists   \n",
       "3                               Broadcast Technicians   \n",
       "4   Telecommunications Equipment Installers and Re...   \n",
       "..                                                ...   \n",
       "61                               Computer Programmers   \n",
       "62                                  Technical Writers   \n",
       "63                        Computer Hardware Engineers   \n",
       "64                          Set and Exhibit Designers   \n",
       "65                                         Archivists   \n",
       "\n",
       "   Projected Growth (2021-2031)  Projected Job Openings (2021-2031)  \\\n",
       "0                       Decline                                2100   \n",
       "1      Much faster than average                                 700   \n",
       "2                       Decline                                4900   \n",
       "3                       Decline                                2800   \n",
       "4           Faster than average                               22500   \n",
       "..                          ...                                 ...   \n",
       "61                      Decline                                9600   \n",
       "62                      Average                                5400   \n",
       "63                      Average                                5300   \n",
       "64                      Average                                2700   \n",
       "65          Faster than average                                1100   \n",
       "\n",
       "                                         Similar Text  \n",
       "0   [Broadcast Announcers and Radio Disc Jockeys, ...  \n",
       "1   [Motion Picture Projectionists, Producers and ...  \n",
       "2   [News Analysts, Reporters, and Journalists, Br...  \n",
       "3   [Broadcast Announcers and Radio Disc Jockeys, ...  \n",
       "4   [Telecommunications Equipment Installers and R...  \n",
       "..                                                ...  \n",
       "61  [Desktop Publishers, Web and Digital Interface...  \n",
       "62  [Broadcast Technicians, Telecommunications Lin...  \n",
       "63  [Telecommunications Line Installers and Repair...  \n",
       "64  [Broadcast Technicians, Producers and Director...  \n",
       "65  [Producers and Directors, Media Programming Di...  \n",
       "\n",
       "[66 rows x 6 columns]"
      ]
     },
     "execution_count": 33,
     "metadata": {},
     "output_type": "execute_result"
    }
   ],
   "source": [
    "df"
   ]
  },
  {
   "cell_type": "code",
   "execution_count": 34,
   "id": "f3c22ec8",
   "metadata": {},
   "outputs": [],
   "source": [
    "df.to_csv('/home/heptagon/Desktop/sentence-similarity/information_similar_text.csv')"
   ]
  },
  {
   "cell_type": "code",
   "execution_count": null,
   "id": "483d48ac",
   "metadata": {},
   "outputs": [],
   "source": []
  },
  {
   "cell_type": "code",
   "execution_count": null,
   "id": "5c39fb46",
   "metadata": {},
   "outputs": [],
   "source": []
  },
  {
   "cell_type": "code",
   "execution_count": 26,
   "id": "891a0e17",
   "metadata": {},
   "outputs": [],
   "source": [
    "# import csv\n",
    "\n",
    "# import pandas as pd\n",
    "# import numpy as np\n",
    "# from scipy import spatial\n",
    "# from sentence_transformers import SentenceTransformer\n",
    "\n",
    "# model = SentenceTransformer('sentence-transformers/bert-base-nli-mean-tokens')\n",
    "\n",
    "\n",
    "# def get_embeddings(filename):\n",
    "#     with open(filename) as csv_file:\n",
    "#         # read the csv file\n",
    "#         csv_reader = csv.reader(csv_file)\n",
    "\n",
    "#     # now we can use this csv files into the pandas\n",
    "#     df = pd.DataFrame([csv_reader], index=None)\n",
    "\n",
    "#     df_embedding = df.assign(embeddings=df['Lyric'].apply(\n",
    "#         lambda x: model.encode(str(x))))\n",
    "#     print(df_embedding)\n",
    "#     return df_embedding\n",
    "\n",
    "\n",
    "# def get_similarity_score(inp, filename):\n",
    "#     data = get_embeddings(filename)\n",
    "#     inp_vector = model.encode(inp)\n",
    "#     s = data['embeddings'].apply(\n",
    "#         lambda x: 1 - spatial.distance.cosine(x, inp_vector))\n",
    "#     data = data.assign(similarity=s)\n",
    "#     return (data.sort_values('similarity', ascending=False))\n",
    "\n",
    "\n",
    "# if __name__ == '__main__':\n",
    "\n",
    "#     filename = 'lyrics.csv'     # csv file name\n",
    "\n",
    "#     print(get_similarity_score('thinking about you', filename))\n"
   ]
  },
  {
   "cell_type": "code",
   "execution_count": null,
   "id": "c1348842",
   "metadata": {},
   "outputs": [],
   "source": []
  },
  {
   "cell_type": "code",
   "execution_count": null,
   "id": "8e426807",
   "metadata": {},
   "outputs": [],
   "source": []
  },
  {
   "cell_type": "code",
   "execution_count": null,
   "id": "85a965cc",
   "metadata": {},
   "outputs": [],
   "source": []
  }
 ],
 "metadata": {
  "kernelspec": {
   "display_name": "Python 3 (ipykernel)",
   "language": "python",
   "name": "python3"
  },
  "language_info": {
   "codemirror_mode": {
    "name": "ipython",
    "version": 3
   },
   "file_extension": ".py",
   "mimetype": "text/x-python",
   "name": "python",
   "nbconvert_exporter": "python",
   "pygments_lexer": "ipython3",
   "version": "3.9.15"
  }
 },
 "nbformat": 4,
 "nbformat_minor": 5
}
